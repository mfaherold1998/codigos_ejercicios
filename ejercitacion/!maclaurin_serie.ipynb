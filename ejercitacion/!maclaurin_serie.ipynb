{
 "cells": [
  {
   "cell_type": "markdown",
   "metadata": {},
   "source": [
    "# Real use case numpy: Implementing an ecuation\n",
    "\n",
    "Using NumPy allows you to keep closer to a one-to-one representation from equation to code.\n",
    "\n",
    "In this example, let's encode the Maclaurin series for e^x.\n",
    "\n",
    "Maclaurin series are a way of approximating more complicated functions with an infinite series of summed terms centered about zero.\n",
    "\n",
    "For ex, the Maclaurin series is the following summation: https://realpython.com/numpy-tutorial/\n"
   ]
  },
  {
   "cell_type": "code",
   "execution_count": 2,
   "metadata": {},
   "outputs": [],
   "source": [
    "from math import e, factorial\n",
    "import numpy as np"
   ]
  },
  {
   "cell_type": "code",
   "execution_count": 3,
   "metadata": {},
   "outputs": [],
   "source": [
    "fac = np.vectorize(factorial)\n",
    "#La función np.vectorize() convierte una función escalar que opera sobre un solo valor \n",
    "# (en este caso, factorial) en una función que puede operar sobre arrays de NumPy."
   ]
  },
  {
   "cell_type": "code",
   "execution_count": 4,
   "metadata": {},
   "outputs": [],
   "source": [
    "def e_x(x, terms=10):\n",
    "    \"\"\"Approximates e^x using a given number of terms of\n",
    "    the Maclaurin series\n",
    "    \"\"\"\n",
    "    n = np.arange(terms)\n",
    "    return np.sum((x ** n) / fac(n))"
   ]
  },
  {
   "cell_type": "code",
   "execution_count": 6,
   "metadata": {},
   "outputs": [
    {
     "name": "stdout",
     "output_type": "stream",
     "text": [
      "Actual: 20.085536923187664\n",
      "N (terms)\tMaclaurin\tError\n",
      "1\t\t1.000\t\t19.086\n",
      "2\t\t4.000\t\t16.086\n",
      "3\t\t8.500\t\t11.586\n",
      "4\t\t13.000\t\t7.086\n",
      "5\t\t16.375\t\t3.711\n",
      "6\t\t18.400\t\t1.686\n",
      "7\t\t19.412\t\t0.673\n",
      "8\t\t19.846\t\t0.239\n",
      "9\t\t20.009\t\t0.076\n",
      "10\t\t20.063\t\t0.022\n",
      "11\t\t20.080\t\t0.006\n",
      "12\t\t20.084\t\t0.001\n",
      "13\t\t20.085\t\t0.000\n"
     ]
    }
   ],
   "source": [
    "if __name__ == \"__main__\":\n",
    "    print(\"Actual:\", e ** 3)  # Using e from the standard library\n",
    "\n",
    "    print(\"N (terms)\\tMaclaurin\\tError\")\n",
    "\n",
    "    for n in range(1, 14):\n",
    "        maclaurin = e_x(3, terms=n)\n",
    "        print(f\"{n}\\t\\t{maclaurin:.03f}\\t\\t{e**3 - maclaurin:.03f}\")"
   ]
  },
  {
   "cell_type": "code",
   "execution_count": null,
   "metadata": {},
   "outputs": [],
   "source": [
    "#Ejercicio extra: try picking one of the other Maclaurin series and implementing it \n",
    "# in a similar way."
   ]
  }
 ],
 "metadata": {
  "kernelspec": {
   "display_name": ".venv",
   "language": "python",
   "name": "python3"
  },
  "language_info": {
   "codemirror_mode": {
    "name": "ipython",
    "version": 3
   },
   "file_extension": ".py",
   "mimetype": "text/x-python",
   "name": "python",
   "nbconvert_exporter": "python",
   "pygments_lexer": "ipython3",
   "version": "3.12.0"
  }
 },
 "nbformat": 4,
 "nbformat_minor": 2
}
