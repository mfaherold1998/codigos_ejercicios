{
 "cells": [
  {
   "cell_type": "code",
   "execution_count": null,
   "metadata": {},
   "outputs": [],
   "source": [
    "'''\n",
    "* Escribe una función que calcule si un número dado es un número de Armstrong\n",
    "* (o también llamado narcisista).\n",
    "* Si no conoces qué es un número de Armstrong, debes buscar información\n",
    "* al respecto.\n",
    "'''"
   ]
  },
  {
   "cell_type": "code",
   "execution_count": 9,
   "metadata": {},
   "outputs": [],
   "source": [
    "def amstrong(num1:str):# Si se usa en una funcion interna cambiar num1:str por int y convertirlo despues\n",
    "    digits = list(num1)\n",
    "    n = len(digits)\n",
    "    num2 = 0\n",
    "\n",
    "    for i in digits:\n",
    "        num2 += int(i)**n\n",
    "\n",
    "    return num2 == int(num1)\n"
   ]
  },
  {
   "cell_type": "code",
   "execution_count": null,
   "metadata": {},
   "outputs": [],
   "source": []
  }
 ],
 "metadata": {
  "kernelspec": {
   "display_name": ".venv",
   "language": "python",
   "name": "python3"
  },
  "language_info": {
   "codemirror_mode": {
    "name": "ipython",
    "version": 3
   },
   "file_extension": ".py",
   "mimetype": "text/x-python",
   "name": "python",
   "nbconvert_exporter": "python",
   "pygments_lexer": "ipython3",
   "version": "3.12.0"
  }
 },
 "nbformat": 4,
 "nbformat_minor": 2
}
