{
 "cells": [
  {
   "cell_type": "code",
   "execution_count": null,
   "metadata": {},
   "outputs": [],
   "source": [
    "'''\n",
    "* Crea una función que calcule y retorne cuántos días hay entre dos cadenas\n",
    "* de texto que representen fechas.\n",
    "* - Una cadena de texto que representa una fecha tiene el formato \"dd/MM/yyyy\".(controlar que sea una cadena valida)\n",
    "* - La función recibirá dos String y retornará un Int.\n",
    "* - La diferencia en días será absoluta (no importa el orden de las fechas).\n",
    "* - Si una de las dos cadenas de texto no representa una fecha correcta se\n",
    "*   lanzará una excepción.\n",
    "'''\n",
    "\n",
    "# 08/09/2024 vs 08/09/2028 1461"
   ]
  },
  {
   "cell_type": "code",
   "execution_count": 117,
   "metadata": {},
   "outputs": [],
   "source": [
    "import re\n",
    "\n",
    "def valid_date (date:str): \n",
    "    regex = r'(0\\d|[1-2][0-9]|3[01])\\/[\\d]{1,2}\\/[\\d]{4}'\n",
    "    valid = re.search(regex,date)\n",
    "    return valid\n",
    "    "
   ]
  },
  {
   "cell_type": "code",
   "execution_count": 118,
   "metadata": {},
   "outputs": [],
   "source": [
    "#Lista de anos bisiestos\n",
    "bisiestos =[]\n",
    "\n",
    "for i in range(1000,4000,4):\n",
    "    if i%4==0 and i%100 == 0 and i%400==0:\n",
    "        bisiestos.append(i)\n",
    "    elif i%100 != 0 and i%4 == 0:\n",
    "        bisiestos.append(i)\n",
    "    else:\n",
    "        pass\n",
    "\n",
    "#Los meses y sus dias\n",
    "meses = {\n",
    "    1: 31,\n",
    "    2: 28,\n",
    "    3: 31,\n",
    "    4: 30,\n",
    "    5: 31,\n",
    "    6: 30,\n",
    "    7: 31,\n",
    "    8: 31,\n",
    "    9: 30,\n",
    "    10: 31,\n",
    "    11: 30,\n",
    "    12: 31\n",
    "}\n"
   ]
  },
  {
   "cell_type": "code",
   "execution_count": 119,
   "metadata": {},
   "outputs": [],
   "source": [
    "def days_years_btwn (year1:int,year2:int):\n",
    "    '''\n",
    "    Calcular los dias entre los anos completos\n",
    "    '''\n",
    "    days = 0\n",
    "    for i in range (year1,year2+1):\n",
    "        if i in bisiestos:\n",
    "            days += 366\n",
    "        else:\n",
    "            days += 365\n",
    "    return days\n"
   ]
  },
  {
   "cell_type": "code",
   "execution_count": 120,
   "metadata": {},
   "outputs": [],
   "source": [
    "def major_date(date1:list,date2:list):\n",
    "    '''Devuelve T o F si la primera date es mayor que la segunda o no'''\n",
    "    if date1[2] > date2[2]:\n",
    "        return True\n",
    "    elif date1[2] < date2[2]:\n",
    "        return False\n",
    "    elif date1[2] == date2[2]:\n",
    "        if date1[1] > date2[1]:\n",
    "            return True\n",
    "        elif date1[1] < date2[1]:\n",
    "            return False\n",
    "        elif date1[1] == date2[1]:\n",
    "            if date1[0] > date2[0]:\n",
    "                return True\n",
    "            elif date1[0] < date2[0]:\n",
    "                return False\n",
    "            else:\n",
    "                return True"
   ]
  },
  {
   "cell_type": "code",
   "execution_count": 121,
   "metadata": {},
   "outputs": [],
   "source": [
    "def days_months_btwn (date1:list,date2:list):\n",
    "    '''\n",
    "    Recibe dos fechas dd/mm/aaaa \n",
    "    calcula, si son del mismo ano, la cantidad de dias entre ellas\n",
    "    y si son de anos distintos los dias entre la primera y el fin de ese ano\n",
    "    y los dias entre el inicio del ano y el mes de la segunda\n",
    "    '''\n",
    "    days = 0\n",
    "\n",
    "    #Fechas del mismo anno\n",
    "    if date1[2] == date2[2]:\n",
    "        #contar los dias entre las dos fechas\n",
    "        if date1[1] == date2[1]:\n",
    "            days += date2[0]-date1[0]\n",
    "            return days\n",
    "        else:\n",
    "            #Si febrero esta entre los meses comprobar si el anno es bisiesto\n",
    "            r = range(date1[1],date2[1]+1)\n",
    "            if 2 in r and date1[2] in bisiestos: \n",
    "                days += 1\n",
    "            #Sumar los dias del mes de date1\n",
    "            days += meses[date1[1]] -date1[0]\n",
    "            #Sumar los dias del mes de date2\n",
    "            days += date2[0]\n",
    "            #Sumar los dias de los meses en el medio            \n",
    "            for i in range(date1[1]+1,date2[1]):\n",
    "                days += meses[i]\n",
    "            \n",
    "            return days\n",
    "        \n",
    "    else: #Fechas de annos distintos\n",
    "        days_1 = 0\n",
    "        #Controlar si febrero esta en el rango de date1\n",
    "        r = range(date1[1],13)\n",
    "        if 2 in r and date1[2] in bisiestos: \n",
    "            days_1 += 1\n",
    "        #Sumar los dias del mes de date1\n",
    "        days_1 += meses[date1[1]] - date1[0]\n",
    "        #Sumar el resto de los meses desde date1 hasta diciembre\n",
    "        for i in range(date1[1]+1,13):\n",
    "            days_1 += meses[i]\n",
    "\n",
    "        \n",
    "        days_2 = 0\n",
    "        #Controlar si febrero esta en el rango de date2\n",
    "        r = range(1, date2[1])\n",
    "        if 2 in r and date2[2] in bisiestos: \n",
    "            days_2 += 1\n",
    "        #Sumar los dias del mes de date2\n",
    "        days_2 += date2[0]\n",
    "        #Sumar el resto de los meses desde enero hasta el mes de date2\n",
    "        for i in range(1, date2[1]):\n",
    "            days_2 += meses[i]\n",
    "        \n",
    "        return days_1+days_2"
   ]
  },
  {
   "cell_type": "code",
   "execution_count": 122,
   "metadata": {},
   "outputs": [],
   "source": [
    "def total_days (date1:str, date2:str):\n",
    "\n",
    "    if valid_date(date1) and valid_date(date2):\n",
    "        \n",
    "        date1 = [int(x) for x in date1.split('/')] #[dia,mes,ano]\n",
    "        date2 = [int(x) for x in date2.split('/')] #[dia,mes,ano]\n",
    "\n",
    "        days = days_months_btwn(date1,date2)\n",
    "\n",
    "        if date2[2]-date1[2] != 0 or date2[2]-date1[2] != 1 :\n",
    "            days += days_years_btwn(date1[2]+1,date2[2]-1)\n",
    "\n",
    "        return days"
   ]
  },
  {
   "cell_type": "code",
   "execution_count": null,
   "metadata": {},
   "outputs": [],
   "source": [
    "#Main\n",
    "\n",
    "date1 = '15/05/2024'\n",
    "date2 = '12/09/2024'\n",
    "\n",
    "res = total_days(date1,date2)\n",
    "\n",
    "print(f'Entre estas fechas hay: {res} dias.')"
   ]
  },
  {
   "cell_type": "code",
   "execution_count": null,
   "metadata": {},
   "outputs": [],
   "source": [
    "# Usando le libreria\n",
    "import datetime\n",
    "data1 = datetime.datetime(2024, 5, 15)\n",
    "data2 = datetime.datetime(2024, 9, 12)\n",
    "print(data2 - data1)"
   ]
  },
  {
   "cell_type": "code",
   "execution_count": 127,
   "metadata": {},
   "outputs": [],
   "source": [
    "today_v1 = datetime.datetime.today()\n",
    "today_v2 = \"08/09/2024\"\n",
    "for year in range(2000, 2024):\n",
    "    for mese in meses.keys():\n",
    "        giorni = [i for i in range(1, meses[mese])]\n",
    "        if year in bisiestos and mese == 2:\n",
    "            giorni.append(29)\n",
    "        for giorno in giorni:\n",
    "            data_v1 = datetime.datetime(year, mese, giorno)\n",
    "            data_v2 = f\"{str(giorno).rjust(2, '0')}/{str(mese).rjust(2, '0')}/{year}\"\n",
    "            res_v1 = today_v1 - data_v1\n",
    "            res_v2 = total_days(data_v2, today_v2)\n",
    "            if res_v1.days - 1 != res_v2:\n",
    "                print(f\"{today_v2} - {data_v2} -> {res_v1.days - 1} - {res_v2}\")"
   ]
  },
  {
   "cell_type": "code",
   "execution_count": null,
   "metadata": {},
   "outputs": [],
   "source": [
    "\"1\".rjust(8, '0')\n",
    "\n",
    "#!Validar las fechas para que sean fechas validas en mi codigo"
   ]
  }
 ],
 "metadata": {
  "kernelspec": {
   "display_name": ".venv",
   "language": "python",
   "name": "python3"
  },
  "language_info": {
   "codemirror_mode": {
    "name": "ipython",
    "version": 3
   },
   "file_extension": ".py",
   "mimetype": "text/x-python",
   "name": "python",
   "nbconvert_exporter": "python",
   "pygments_lexer": "ipython3",
   "version": "3.12.0"
  }
 },
 "nbformat": 4,
 "nbformat_minor": 2
}
