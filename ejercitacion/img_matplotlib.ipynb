{
 "cells": [
  {
   "cell_type": "markdown",
   "metadata": {},
   "source": [
    "# Manipulating Images With Matplotlib\n",
    "\n",
    "You’re going to load an image using Matplotlib, realize that RGB images are really just width × height × 3 arrays of int8 integers, manipulate those bytes, and use Matplotlib again to save that modified image once you’re done."
   ]
  },
  {
   "cell_type": "code",
   "execution_count": null,
   "metadata": {},
   "outputs": [],
   "source": [
    "# url de la imagen: https://realpython.com/cdn-cgi/image/width=1920,format=auto/https://files.realpython.com/media/kitty.90952ca484f1.jpg"
   ]
  },
  {
   "cell_type": "code",
   "execution_count": 2,
   "metadata": {},
   "outputs": [],
   "source": [
    "import numpy as np\n",
    "import matplotlib.image as mpimg"
   ]
  },
  {
   "cell_type": "code",
   "execution_count": 4,
   "metadata": {},
   "outputs": [
    {
     "name": "stdout",
     "output_type": "stream",
     "text": [
      "<class 'numpy.ndarray'>\n",
      "(1599, 899, 3)\n"
     ]
    }
   ],
   "source": [
    "img = mpimg.imread(\"nanda.jpeg\")\n",
    "\n",
    "print(type(img)) #<class 'numpy.ndarray'>\n",
    "print(img.shape) #(1599, 899, 3)\n"
   ]
  },
  {
   "cell_type": "code",
   "execution_count": 17,
   "metadata": {},
   "outputs": [],
   "source": [
    "output = img.copy()  # The original image is read-only!\n",
    "output[:, :, :2] = 0\n",
    "mpimg.imsave(\"blue.jpg\", output)\n"
   ]
  },
  {
   "cell_type": "code",
   "execution_count": 14,
   "metadata": {},
   "outputs": [],
   "source": [
    "averages = img.mean(axis=2)  # Take the average of each R, G, and B\n",
    "mpimg.imsave(\"bad-gray.jpg\", averages, cmap=\"gray\")"
   ]
  },
  {
   "cell_type": "code",
   "execution_count": 18,
   "metadata": {},
   "outputs": [],
   "source": [
    "# @: two-dimensional array dot product.\n",
    "\n",
    "weights = np.array([0.3, 0.59, 0.11])\n",
    "grayscale = img @ weights\n",
    "mpimg.imsave(\"good-gray.jpg\", grayscale, cmap=\"gray\")"
   ]
  },
  {
   "cell_type": "code",
   "execution_count": null,
   "metadata": {},
   "outputs": [],
   "source": []
  }
 ],
 "metadata": {
  "kernelspec": {
   "display_name": ".venv",
   "language": "python",
   "name": "python3"
  },
  "language_info": {
   "codemirror_mode": {
    "name": "ipython",
    "version": 3
   },
   "file_extension": ".py",
   "mimetype": "text/x-python",
   "name": "python",
   "nbconvert_exporter": "python",
   "pygments_lexer": "ipython3",
   "version": "3.12.0"
  }
 },
 "nbformat": 4,
 "nbformat_minor": 2
}
