{
    "cells": [
        {
            "cell_type": "code",
            "execution_count": 11,
            "metadata": {},
            "outputs": [],
            "source": [
                "class Node():\n",
                "\n",
                "    def __init__(self, data=None):\n",
                "        self.data = data\n",
                "        self.next = None\n",
                "\n",
                "    def __repr__(self):\n",
                "        return self.data\n",
                "\n",
                "class LinkedList():\n",
                "\n",
                "    def __init__(self, nodes=None):\n",
                "        self.head = None\n",
                "        if nodes is not None:\n",
                "            node = Node(data=nodes.pop(0))\n",
                "            self.head = node\n",
                "            for elem in nodes:\n",
                "                node.next = Node(data=elem)\n",
                "                node = node.next\n",
                "\n",
                "    def __repr__(self):\n",
                "        node = self.head\n",
                "        nodes = []\n",
                "        while node is not None:\n",
                "            nodes.append(node.data)\n",
                "            node = node.next\n",
                "        nodes.append(\"None\")\n",
                "        return \" -> \".join(nodes)\n",
                "    \n",
                "    def __iter__(self):\n",
                "        node = self.head\n",
                "        while node is not None:\n",
                "            yield node\n",
                "            node = node.next\n",
                "\n",
                "    def __getitem__(self, index):\n",
                "        if index == 0:\n",
                "            return self.head.data\n",
                "        count = 0\n",
                "        node = self.head\n",
                "        while count != index and node is not None:\n",
                "            node = node.next\n",
                "            count += 1        \n",
                "        if node == None:\n",
                "            raise Exception('Out of range')\n",
                "        else:\n",
                "            return node.data\n",
                "    \n",
                "    def __setitem__(self, index, value):\n",
                "        if index == 0:\n",
                "            self.head.data = value\n",
                "        count = 0\n",
                "        node = self.head\n",
                "        while count != index and node is not None:\n",
                "            node = node.next\n",
                "            count += 1        \n",
                "        if node == None:\n",
                "            raise Exception('Out of range')\n",
                "        else:\n",
                "            node.data = value\n",
                "\n",
                "\n",
                "\n",
                "    def add_first(self, node):\n",
                "        node.next = self.head\n",
                "        self.head = node\n",
                "\n",
                "    def add_last(self, node):\n",
                "        if self.head is None:\n",
                "            self.head = node\n",
                "            return\n",
                "        for current_node in self:\n",
                "            pass\n",
                "        current_node.next = node\n",
                "\n",
                "    def add_after(self, target_node_data, new_node):\n",
                "        if self.head is None:\n",
                "            raise Exception(\"List is empty\")\n",
                "\n",
                "        for node in self:\n",
                "            if node.data == target_node_data:\n",
                "                new_node.next = node.next\n",
                "                node.next = new_node\n",
                "                return\n",
                "\n",
                "        raise Exception(\"Node with data '%s' not found\" % target_node_data)\n",
                "    \n",
                "    def add_before(self, target_node_data, new_node):\n",
                "        if self.head is None:\n",
                "            raise Exception(\"List is empty\")\n",
                "\n",
                "        if self.head.data == target_node_data:\n",
                "            return self.add_first(new_node)\n",
                "\n",
                "        prev_node = self.head\n",
                "        for node in self:\n",
                "            if node.data == target_node_data:\n",
                "                prev_node.next = new_node\n",
                "                new_node.next = node\n",
                "                return\n",
                "            prev_node = node\n",
                "\n",
                "        raise Exception(\"Node with data '%s' not found\" % target_node_data)\n",
                "    \n",
                "    def remove_node(self, target_node_data):\n",
                "        if self.head is None:\n",
                "            raise Exception(\"List is empty\")\n",
                "\n",
                "        if self.head.data == target_node_data:\n",
                "            self.head = self.head.next\n",
                "            return\n",
                "\n",
                "        previous_node = self.head\n",
                "        for node in self:\n",
                "            if node.data == target_node_data:\n",
                "                previous_node.next = node.next\n",
                "                return\n",
                "            previous_node = node\n",
                "\n",
                "        raise Exception(\"Node with data '%s' not found\" % target_node_data)\n",
                "    \n",
                "    def reverse(self):\n",
                "        if self.head == None:\n",
                "            return\n",
                "        node1 = None #Nodo anterior\n",
                "        node2 = self.head #Nodo actual\n",
                "        node3 = self.head.next #Nodo siguiente\n",
                "\n",
                "        while node3 is not None:\n",
                "            node2.next = node1\n",
                "            node1 = node2\n",
                "            node2 = node3\n",
                "            node3 = node3.next\n",
                "        \n",
                "        node2.next = node1\n",
                "        self.head = node2    \n",
                "\n",
                "    def remove_first(self):\n",
                "        if self.head is None:\n",
                "            raise Exception(\"List is empty\")\n",
                "        res = self.head.data\n",
                "        self.head = self.head.next\n",
                "        return res\n",
                "        \n",
                "\n",
                "        "
            ]
        },
        {
            "cell_type": "markdown",
            "metadata": {},
            "source": [
                "## Yield Keyword\n",
                "\n",
                "The **yield** keyword is used to return a list of values from a function.\n",
                "Unlike the return keyword which stops further execution of the function, the yield keyword continues to the end of the function.\n",
                "When you call a function with yield keyword(s), the return value will be a list of values, one for each yield."
            ]
        },
        {
            "cell_type": "code",
            "execution_count": 12,
            "metadata": {},
            "outputs": [],
            "source": [
                "list = LinkedList()\n",
                "\n",
                "first_node = Node(\"a\")\n",
                "\n",
                "list.head = first_node\n",
                "\n",
                "second_node = Node(\"b\")\n",
                "third_node = Node(\"c\")\n",
                "first_node.next = second_node\n",
                "second_node.next = third_node"
            ]
        },
        {
            "cell_type": "code",
            "execution_count": 13,
            "metadata": {},
            "outputs": [
                {
                    "name": "stdout",
                    "output_type": "stream",
                    "text": [
                        "0\n",
                        "1\n",
                        "2\n",
                        "2\n",
                        "4\n",
                        "4\n",
                        "5\n",
                        "6\n"
                    ]
                }
            ],
            "source": [
                "ll = LinkedList(['1','2','3','4','5'])\n",
                "\n",
                "ll.add_first(Node('0'))\n",
                "ll.add_last(Node('6'))\n",
                "ll.add_after('2',Node('2'))\n",
                "ll.add_before('5',Node('4'))\n",
                "ll.remove_node('3')\n",
                "\n",
                "for node in ll:\n",
                "    print(node)"
            ]
        },
        {
            "cell_type": "code",
            "execution_count": 14,
            "metadata": {},
            "outputs": [
                {
                    "data": {
                        "text/plain": [
                            "\"\\nPara implementar:\\n*Create a method to retrieve an element from a specific position: get(i) or even llist[i].\\n*Create a method to reverse the linked list: llist.reverse().\\nCreate a Queue() object inheriting this article's linked list with enqueue() and dequeue() methods.\\n\""
                        ]
                    },
                    "execution_count": 14,
                    "metadata": {},
                    "output_type": "execute_result"
                }
            ],
            "source": [
                "'''\n",
                "Para implementar:\n",
                "*Create a method to retrieve an element from a specific position: get(i) or even llist[i].\n",
                "*Create a method to reverse the linked list: llist.reverse().\n",
                "*Create a Queue() object inheriting this article's linked list with enqueue() and dequeue() methods.\n",
                "'''"
            ]
        },
        {
            "cell_type": "code",
            "execution_count": 15,
            "metadata": {},
            "outputs": [
                {
                    "data": {
                        "text/plain": [
                            "'0'"
                        ]
                    },
                    "execution_count": 15,
                    "metadata": {},
                    "output_type": "execute_result"
                }
            ],
            "source": [
                "#Sobrecarga del operador indice\n",
                "ll[5] = '0'\n",
                "ll[5]"
            ]
        },
        {
            "cell_type": "code",
            "execution_count": 16,
            "metadata": {},
            "outputs": [
                {
                    "data": {
                        "text/plain": [
                            "6 -> 5 -> 0 -> 4 -> 2 -> 2 -> 1 -> 0 -> None"
                        ]
                    },
                    "execution_count": 16,
                    "metadata": {},
                    "output_type": "execute_result"
                }
            ],
            "source": [
                "ll.reverse()\n",
                "ll"
            ]
        },
        {
            "cell_type": "code",
            "execution_count": 22,
            "metadata": {},
            "outputs": [],
            "source": [
                "#Queue implementation\n",
                "\n",
                "class Queue(LinkedList):\n",
                "\n",
                "    def __init__(self, nodes=None):\n",
                "        super().__init__(nodes)\n",
                "\n",
                "    def enqueue(self, nodo):\n",
                "        self.add_last(nodo)\n",
                "\n",
                "    def dequeue(self):\n",
                "        if self.head ==None:\n",
                "            return None\n",
                "        else:\n",
                "            return self.remove_first()\n",
                "    \n"
            ]
        },
        {
            "cell_type": "code",
            "execution_count": 24,
            "metadata": {},
            "outputs": [
                {
                    "data": {
                        "text/plain": [
                            "b -> c -> d -> None"
                        ]
                    },
                    "execution_count": 24,
                    "metadata": {},
                    "output_type": "execute_result"
                }
            ],
            "source": [
                "a = Queue(['a','b','c'])\n",
                "a.enqueue(Node('d'))\n",
                "a.dequeue()\n",
                "a"
            ]
        },
        {
            "cell_type": "code",
            "execution_count": null,
            "metadata": {},
            "outputs": [],
            "source": []
        }
    ],
    "metadata": {
        "kernelspec": {
            "display_name": ".venv",
            "language": "python",
            "name": "python3"
        },
        "language_info": {
            "codemirror_mode": {
                "name": "ipython",
                "version": 3
            },
            "file_extension": ".py",
            "mimetype": "text/x-python",
            "name": "python",
            "nbconvert_exporter": "python",
            "pygments_lexer": "ipython3",
            "version": "3.12.0"
        }
    },
    "nbformat": 4,
    "nbformat_minor": 2
}
