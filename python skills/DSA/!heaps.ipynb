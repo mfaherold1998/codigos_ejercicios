{
 "cells": [
  {
   "cell_type": "markdown",
   "metadata": {},
   "source": [
    "# Heaps\n",
    "\n",
    "You use a heap when you have to do repeated minimum (or maximum) extractions. \n",
    "\n",
    "Strengths\n",
    "\n",
    "A min-heap is able to quickly extract the minimum value on the heap. Repeated extractions from a min-heap into an array will yield a sorted array.\n",
    "\n",
    "Weaknesses\n",
    "\n",
    "There's no convenient way of searching for a particular key value in a heap. Entries are only partially ordered; clever use of the heap property can allow for some pruning of searches.\n",
    "\n",
    "Common interview questions that benefit from heaps:\n",
    "\n",
    "- Finding the minimum distance between two nodes in a graph\n",
    "- Getting the next event that is scheduled to occur\n",
    "- Keep track of the median value while streaming\n",
    "- Find the first **k** non-repeating characters in a string in a single traversal"
   ]
  },
  {
   "cell_type": "code",
   "execution_count": null,
   "metadata": {},
   "outputs": [],
   "source": [
    "# Implementar un heap"
   ]
  }
 ],
 "metadata": {
  "language_info": {
   "name": "python"
  }
 },
 "nbformat": 4,
 "nbformat_minor": 2
}
