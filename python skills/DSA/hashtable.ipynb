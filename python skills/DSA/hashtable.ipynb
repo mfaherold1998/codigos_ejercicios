{
 "cells": [
  {
   "cell_type": "markdown",
   "metadata": {},
   "source": [
    "# Hash Tables\n",
    "\n",
    "The term hash table or hash map is often used interchangeably with the word dictionary.\n",
    "\n",
    "A hash table is an array with a hash function.\n",
    "\n",
    "hashing => translate an arbitrary key into an integer number that can work as an index (called the hash value or the hash code) in a regular array.\n",
    "\n",
    "Python comes with a built-in hashlib module: https://docs.python.org/3/library/hashlib.html\n",
    "\n",
    "Python’s hash() is a deterministic function, which is one of the most fundamental features of the hash function.\n",
    "\n",
    "It always produces a fixed-size output no matter how big the input was.\n",
    "\n",
    "hash collision => when two different inputs produce the same hash value."
   ]
  },
  {
   "cell_type": "code",
   "execution_count": 6,
   "metadata": {},
   "outputs": [
    {
     "data": {
      "text/plain": [
       "-3769901157367967858"
      ]
     },
     "execution_count": 6,
     "metadata": {},
     "output_type": "execute_result"
    }
   ],
   "source": [
    "# Built-in hash() python\n",
    "# Hash values are immutable and don’t change throughout an object’s lifetime\n",
    "\n",
    "hash(\"Lorem ipsum dolor sit amet, consectetur adipisicing elit,\"\n",
    "    \"sed do eiusmod tempor incididunt ut labore et dolore magna\"\n",
    "    \"aliqua. Ut enim ad minim veniam, quis nostrud exercitation\"\n",
    "    \"ullamco laboris nisi ut aliquip ex ea commodo consequat.\"\n",
    "    \"Duis aute irure dolor in reprehenderit in voluptate velit\"\n",
    "    \"esse cillum dolore eu fugiat nulla pariatur. Excepteur sint\"\n",
    "    \"occaecat cupidatat non proident, sunt in culpa qui officia\"\n",
    "    \"deserunt mollit anim id est laborum.\") #-1932300599046644037\n",
    "\n",
    "hash(3.14159265358979323846264338327950288419716939937510) #326490430436040707\n",
    "\n",
    "hash(3.14) #322818021289917443\n",
    "\n",
    "hash(\"Lorem\") #-3769901157367967858\n",
    "\n",
    "# Instances of built-in mutable types—like lists, sets, and dicts—aren’t hashable."
   ]
  },
  {
   "cell_type": "code",
   "execution_count": 13,
   "metadata": {},
   "outputs": [],
   "source": [
    "#hash distribution\n",
    "\n",
    "from collections import Counter\n",
    "from string import printable\n",
    "\n",
    "def distribute(items, num_containers, hash_function=hash):\n",
    "    return Counter([hash_function(item) % num_containers for item in items])\n",
    "\n",
    "def plot(histogram):\n",
    "    for key in sorted(histogram):\n",
    "        count = histogram[key]\n",
    "        padding = (max(histogram.values()) - count) * \" \"\n",
    "        print(f\"{key:3} {'■' * count}{padding} ({count})\")"
   ]
  },
  {
   "cell_type": "code",
   "execution_count": 14,
   "metadata": {},
   "outputs": [
    {
     "name": "stdout",
     "output_type": "stream",
     "text": [
      "  0 ■■■■■■■■■■■■■■■■■■■■■■■■■■■■■■■■■■■■■■■■■■■■■           (45)\n",
      "  1 ■■■■■■■■■■■■■■■■■■■■■■■■■■■■■■■■■■■■■■■■■■■■■■■■■■■■■■■ (55)\n"
     ]
    }
   ],
   "source": [
    "plot(distribute(printable, num_containers=2))"
   ]
  },
  {
   "cell_type": "code",
   "execution_count": 15,
   "metadata": {},
   "outputs": [
    {
     "name": "stdout",
     "output_type": "stream",
     "text": [
      "  0 ■■■■■■■■■■■■■■■■■■           (18)\n",
      "  1 ■■■■■■■■■■■■■■               (14)\n",
      "  2 ■■■■■■■■■■■■■■■■■■■■■■■■■■■■ (28)\n",
      "  3 ■■■■■■■■■■■■■■■■             (16)\n",
      "  4 ■■■■■■■■■■■■■■■■■■■■■■■■     (24)\n"
     ]
    }
   ],
   "source": [
    "plot(distribute(printable, num_containers=5))"
   ]
  },
  {
   "cell_type": "code",
   "execution_count": 18,
   "metadata": {},
   "outputs": [
    {
     "data": {
      "text/plain": [
       "7445125183449741232"
      ]
     },
     "execution_count": 18,
     "metadata": {},
     "output_type": "execute_result"
    }
   ],
   "source": [
    "# Hash values are often subject to an avalanche effect, as even the smallest input change \n",
    "# gets amplified.\n",
    "\n",
    "hash('Lorem') #-3769901157367967858\n",
    "hash('Loren') # 7445125183449741232 "
   ]
  },
  {
   "cell_type": "code",
   "execution_count": 20,
   "metadata": {},
   "outputs": [
    {
     "data": {
      "text/plain": [
       "1916960228000"
      ]
     },
     "execution_count": 20,
     "metadata": {},
     "output_type": "execute_result"
    }
   ],
   "source": [
    "# identity is the same as the object’s memory address expressed as an integer\n",
    "id('lorem')\n",
    "id('Lorem')"
   ]
  },
  {
   "cell_type": "markdown",
   "metadata": {},
   "source": [
    "# Create a hash function"
   ]
  },
  {
   "cell_type": "code",
   "execution_count": 32,
   "metadata": {},
   "outputs": [
    {
     "data": {
      "text/plain": [
       "(175, 176, 177)"
      ]
     },
     "execution_count": 32,
     "metadata": {},
     "output_type": "execute_result"
    }
   ],
   "source": [
    "# str.lstrip() will only affect a string if it starts with the specified prefix to strip.\n",
    "\n",
    "def hash_function(key):\n",
    "    return sum( index * ord(character) for index, character in enumerate(repr(key).lstrip(\"'\"), start=1))\n",
    "\n",
    "hash_function('a'),hash_function('b'),hash_function('c')"
   ]
  },
  {
   "cell_type": "markdown",
   "metadata": {},
   "source": [
    "# Create a Hash table"
   ]
  },
  {
   "cell_type": "code",
   "execution_count": 34,
   "metadata": {},
   "outputs": [],
   "source": [
    "# Requirements:\n",
    "# Create an empty hash table\n",
    "# Insert a key-value pair to the hash table\n",
    "# Delete a key-value pair from the hash table\n",
    "# Find a value by key in the hash table\n",
    "# Update the value associated with an existing key\n",
    "# Check if the hash table has a given key\n",
    "\n",
    "'''\n",
    "Create a hash table from a Python dictionary\n",
    "Create a shallow copy of an existing hash table\n",
    "Return a default value if the corresponding key is not found\n",
    "Report the number of key-value pairs stored in the hash table\n",
    "Return the keys, values, and key-value pairs\n",
    "Make the hash table iterable\n",
    "Make the hash table comparable by using the equality test operator\n",
    "Show a textual representation of the hash table\n",
    "'''"
   ]
  },
  {
   "cell_type": "code",
   "execution_count": null,
   "metadata": {},
   "outputs": [],
   "source": []
  }
 ],
 "metadata": {
  "kernelspec": {
   "display_name": ".venv",
   "language": "python",
   "name": "python3"
  },
  "language_info": {
   "codemirror_mode": {
    "name": "ipython",
    "version": 3
   },
   "file_extension": ".py",
   "mimetype": "text/x-python",
   "name": "python",
   "nbconvert_exporter": "python",
   "pygments_lexer": "ipython3",
   "version": "3.12.0"
  }
 },
 "nbformat": 4,
 "nbformat_minor": 2
}
