{
 "cells": [
  {
   "cell_type": "code",
   "execution_count": null,
   "metadata": {},
   "outputs": [],
   "source": [
    "#Linked List\n",
    "\n",
    "# While lists use a contiguous memory block to store references to their data, \n",
    "# linked lists store references as part of their own elements.\n",
    "\n",
    "'''\n",
    " -------------\n",
    "| Data | Next |->\n",
    " -------------\n",
    "'''\n",
    "\n",
    "#First node: Head\n",
    "#Last node: Tail (Next pointing to None)\n",
    "\n",
    "#IMplement: Queues, Staks, Graphs\n",
    "\n",
    "# lists are dynamic arrays.\n",
    "\n",
    "#deque() uses double linked list\n",
    "\n",
    "#Otros tipos de linked lists:\n",
    "# Double linked list\n",
    "# Circular linked list\n",
    "# Doubly circular linked list\n",
    "\n"
   ]
  },
  {
   "cell_type": "code",
   "execution_count": 1,
   "metadata": {},
   "outputs": [
    {
     "data": {
      "text/plain": [
       "'\\ngraph = {\\n...     1: [2, 3, None],\\n...     2: [4, None],\\n...     3: [None],\\n...     4: [5, 6, None],\\n...     5: [6, None],\\n...     6: [None]\\n... }\\n'"
      ]
     },
     "execution_count": 1,
     "metadata": {},
     "output_type": "execute_result"
    }
   ],
   "source": [
    "#Adjacency list (Graph)\n",
    "'''\n",
    "graph = {\n",
    "...     1: [2, 3, None],\n",
    "...     2: [4, None],\n",
    "...     3: [None],\n",
    "...     4: [5, 6, None],\n",
    "...     5: [6, None],\n",
    "...     6: [None]\n",
    "... }\n",
    "'''"
   ]
  },
  {
   "cell_type": "code",
   "execution_count": 7,
   "metadata": {},
   "outputs": [
    {
     "data": {
      "text/plain": [
       "'a'"
      ]
     },
     "execution_count": 7,
     "metadata": {},
     "output_type": "execute_result"
    }
   ],
   "source": [
    "#Modulo con una implementacion de linked lits\n",
    "from collections import deque\n",
    "\n",
    "a = deque(['a','b','c']) #Iterable as input\n",
    "\n",
    "a.append('f')\n",
    "a.pop()\n",
    "\n",
    "a.appendleft('z')\n",
    "a.popleft()\n",
    "\n",
    "a[0]"
   ]
  },
  {
   "cell_type": "code",
   "execution_count": 8,
   "metadata": {},
   "outputs": [
    {
     "data": {
      "text/plain": [
       "deque(['3', '2', '1'])"
      ]
     },
     "execution_count": 8,
     "metadata": {},
     "output_type": "execute_result"
    }
   ],
   "source": [
    "#Implementing queues and stacks\n",
    "\n",
    "queue = deque()\n",
    "\n",
    "queue.append(\"Mary\")\n",
    "queue.append(\"John\")\n",
    "queue.append(\"Susan\")\n",
    "\n",
    "queue.popleft() #Sali primero el primero que llego (FIFO)\n",
    "\n",
    "stack = deque()\n",
    "stack.appendleft(\"1\")\n",
    "stack.appendleft(\"2\")\n",
    "stack.appendleft(\"3\")\n",
    "\n",
    "stack.popleft()\n",
    "\n",
    "stack"
   ]
  }
 ],
 "metadata": {
  "kernelspec": {
   "display_name": ".venv",
   "language": "python",
   "name": "python3"
  },
  "language_info": {
   "codemirror_mode": {
    "name": "ipython",
    "version": 3
   },
   "file_extension": ".py",
   "mimetype": "text/x-python",
   "name": "python",
   "nbconvert_exporter": "python",
   "pygments_lexer": "ipython3",
   "version": "3.12.0"
  }
 },
 "nbformat": 4,
 "nbformat_minor": 2
}
