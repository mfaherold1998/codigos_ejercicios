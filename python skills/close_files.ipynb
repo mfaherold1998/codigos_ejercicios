{
 "cells": [
  {
   "cell_type": "code",
   "execution_count": null,
   "metadata": {},
   "outputs": [],
   "source": [
    "# Python context managers make it easy to close your files once you’re done with them:\n",
    "\n",
    "with open(\"hello.txt\", mode=\"w\") as file:\n",
    "    file.write(\"Hello, World!\")\n",
    "\n",
    "'''\n",
    "The with statement initiates a context manager. In this example, the context manager opens \n",
    "the file hello.txt and manages the file resource as long as the context is active.\n",
    "If you’re not using a context manager or you’re working in a different language, then you \n",
    "might explicitly close files with the try … finally approach:\n",
    "'''\n",
    "\n",
    "try:\n",
    "    file = open(\"hello.txt\", mode=\"w\")\n",
    "    file.write(\"Hello, World!\")\n",
    "finally:\n",
    "    file.close()\n"
   ]
  },
  {
   "cell_type": "code",
   "execution_count": null,
   "metadata": {},
   "outputs": [],
   "source": [
    "# Por que es importante cerrar ficheros?\n",
    "# In Short: Files Are Resources Limited by the Operating System\n",
    "# Si no los cerramos el SO no podra liberar recursos\n",
    "\n",
    "with open(\"test_file.txt\", mode=\"w\") as file:\n",
    "    file.fileno()\n",
    "    #Encontrar el handler del file asignado por el SO\n",
    "\n",
    "# keeping files open leaves you vulnerable to losing data"
   ]
  }
 ],
 "metadata": {
  "language_info": {
   "name": "python"
  }
 },
 "nbformat": 4,
 "nbformat_minor": 2
}
