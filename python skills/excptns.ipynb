{
 "cells": [
  {
   "cell_type": "code",
   "execution_count": 1,
   "metadata": {},
   "outputs": [
    {
     "data": {
      "text/plain": [
       "'\\nRaise an exception in Python with raise\\nDebug and test your code with assert\\nHandle exceptions with try and except\\nFine-tune your exception handling with else and finally\\n'"
      ]
     },
     "execution_count": 1,
     "metadata": {},
     "output_type": "execute_result"
    }
   ],
   "source": [
    "# In Python, an error can be a syntax error or an exception.\n",
    "'''\n",
    "Raise an exception in Python with raise\n",
    "Debug and test your code with assert\n",
    "Handle exceptions with try and except\n",
    "Fine-tune your exception handling with else and finally\n",
    "'''"
   ]
  },
  {
   "cell_type": "code",
   "execution_count": 2,
   "metadata": {},
   "outputs": [
    {
     "ename": "Exception",
     "evalue": "The number should not exceed 5. (number=10)",
     "output_type": "error",
     "traceback": [
      "\u001b[1;31m---------------------------------------------------------------------------\u001b[0m",
      "\u001b[1;31mException\u001b[0m                                 Traceback (most recent call last)",
      "Cell \u001b[1;32mIn[2], line 4\u001b[0m\n\u001b[0;32m      2\u001b[0m number \u001b[38;5;241m=\u001b[39m \u001b[38;5;241m10\u001b[39m\n\u001b[0;32m      3\u001b[0m \u001b[38;5;28;01mif\u001b[39;00m number \u001b[38;5;241m>\u001b[39m \u001b[38;5;241m5\u001b[39m:\n\u001b[1;32m----> 4\u001b[0m     \u001b[38;5;28;01mraise\u001b[39;00m \u001b[38;5;167;01mException\u001b[39;00m(\u001b[38;5;124mf\u001b[39m\u001b[38;5;124m\"\u001b[39m\u001b[38;5;124mThe number should not exceed 5. (\u001b[39m\u001b[38;5;132;01m{\u001b[39;00mnumber\u001b[38;5;132;01m=}\u001b[39;00m\u001b[38;5;124m)\u001b[39m\u001b[38;5;124m\"\u001b[39m)\n\u001b[0;32m      5\u001b[0m \u001b[38;5;28mprint\u001b[39m(number)\n",
      "\u001b[1;31mException\u001b[0m: The number should not exceed 5. (number=10)"
     ]
    }
   ],
   "source": [
    "#Rising an exception\n",
    "number = 10\n",
    "if number > 5:\n",
    "    raise Exception(f\"The number should not exceed 5. ({number=})\")\n",
    "print(number)"
   ]
  },
  {
   "cell_type": "code",
   "execution_count": 4,
   "metadata": {},
   "outputs": [
    {
     "ename": "AssertionError",
     "evalue": "The number should not exceed 5. (number=10)",
     "output_type": "error",
     "traceback": [
      "\u001b[1;31m---------------------------------------------------------------------------\u001b[0m",
      "\u001b[1;31mAssertionError\u001b[0m                            Traceback (most recent call last)",
      "Cell \u001b[1;32mIn[4], line 4\u001b[0m\n\u001b[0;32m      1\u001b[0m \u001b[38;5;66;03m# AssertionError used for debugging in develompment\u001b[39;00m\n\u001b[0;32m      2\u001b[0m \u001b[38;5;66;03m# you shouldn’t ever raise it yourself using raise.\u001b[39;00m\n\u001b[0;32m      3\u001b[0m number \u001b[38;5;241m=\u001b[39m \u001b[38;5;241m10\u001b[39m\n\u001b[1;32m----> 4\u001b[0m \u001b[38;5;28;01massert\u001b[39;00m (number \u001b[38;5;241m<\u001b[39m \u001b[38;5;241m5\u001b[39m), \u001b[38;5;124mf\u001b[39m\u001b[38;5;124m\"\u001b[39m\u001b[38;5;124mThe number should not exceed 5. (\u001b[39m\u001b[38;5;132;01m{\u001b[39;00mnumber\u001b[38;5;132;01m=}\u001b[39;00m\u001b[38;5;124m)\u001b[39m\u001b[38;5;124m\"\u001b[39m\n\u001b[0;32m      5\u001b[0m \u001b[38;5;28mprint\u001b[39m(number)\n",
      "\u001b[1;31mAssertionError\u001b[0m: The number should not exceed 5. (number=10)"
     ]
    }
   ],
   "source": [
    "# AssertionError used for debugging in develompment\n",
    "# you shouldn’t ever raise it yourself using raise.\n",
    "number = 10\n",
    "assert (number < 5), f\"The number should not exceed 5. ({number=})\"\n",
    "print(number)\n",
    "\n",
    "# you should never use assertions to set crucial constraints for your program."
   ]
  },
  {
   "cell_type": "code",
   "execution_count": 9,
   "metadata": {},
   "outputs": [
    {
     "name": "stdout",
     "output_type": "stream",
     "text": [
      "Function can only run on Linux systems.\n",
      "The linux_interaction() function wasn't executed.\n"
     ]
    }
   ],
   "source": [
    "# Handling exceptions with try..except\n",
    "# In the except clause, you can determine how your program should respond to exceptions.\n",
    "def linux_interaction():\n",
    "    import sys\n",
    "    if \"linux\" not in sys.platform:\n",
    "        raise RuntimeError(\"Function can only run on Linux systems.\")\n",
    "    print(\"Doing Linux things.\")\n",
    "\n",
    "try:\n",
    "    linux_interaction()\n",
    "except RuntimeError as error:\n",
    "    print(error)\n",
    "    print(\"The linux_interaction() function wasn't executed.\")"
   ]
  },
  {
   "cell_type": "code",
   "execution_count": 14,
   "metadata": {},
   "outputs": [
    {
     "name": "stdout",
     "output_type": "stream",
     "text": [
      "[Errno 2] No such file or directory: 'file.log'\n"
     ]
    }
   ],
   "source": [
    "try:\n",
    "    with open(\"file.log\") as file:\n",
    "        read_data = file.read()\n",
    "except FileNotFoundError as fnf_error:\n",
    "    print(fnf_error)"
   ]
  },
  {
   "cell_type": "code",
   "execution_count": 15,
   "metadata": {},
   "outputs": [
    {
     "name": "stdout",
     "output_type": "stream",
     "text": [
      "Function can only run on Linux systems.\n"
     ]
    }
   ],
   "source": [
    "# if you’re handling specific exceptions as you did above, then the order of the except clauses \n",
    "# doesn’t matter too much. It’s all about which of the exceptions Python raises first.\n",
    "\n",
    "# You can use Python’s else statement to instruct a program to execute a certain block of code \n",
    "# only in the absence of exceptions:\n",
    "\n",
    "try:\n",
    "    linux_interaction()\n",
    "except RuntimeError as error:\n",
    "    print(error)\n",
    "else:\n",
    "    print(\"Doing even more Linux things.\")"
   ]
  },
  {
   "cell_type": "code",
   "execution_count": 16,
   "metadata": {},
   "outputs": [
    {
     "name": "stdout",
     "output_type": "stream",
     "text": [
      "Function can only run on Linux systems.\n"
     ]
    }
   ],
   "source": [
    "#Nested try..except..else\n",
    "try:\n",
    "    linux_interaction()\n",
    "except RuntimeError as error:\n",
    "    print(error)\n",
    "else:\n",
    "    try:\n",
    "        with open(\"file.log\") as file:\n",
    "            read_data = file.read()\n",
    "    except FileNotFoundError as fnf_error:\n",
    "        print(fnf_error)"
   ]
  },
  {
   "cell_type": "code",
   "execution_count": 17,
   "metadata": {},
   "outputs": [
    {
     "name": "stdout",
     "output_type": "stream",
     "text": [
      "Function can only run on Linux systems.\n",
      "Cleaning up, irrespective of any exceptions.\n"
     ]
    }
   ],
   "source": [
    "# finally: codigo que se ejecuta siempre sin importar si se encontro exception o no\n",
    "try:\n",
    "    linux_interaction()\n",
    "except RuntimeError as error:\n",
    "    print(error)\n",
    "else:\n",
    "    try:\n",
    "        with open(\"file.log\") as file:\n",
    "            read_data = file.read()\n",
    "    except FileNotFoundError as fnf_error:\n",
    "        print(fnf_error)\n",
    "finally:\n",
    "    print(\"Cleaning up, irrespective of any exceptions.\")"
   ]
  },
  {
   "cell_type": "code",
   "execution_count": 19,
   "metadata": {},
   "outputs": [
    {
     "ename": "PlatformException",
     "evalue": "Function can only run on Linux systems.",
     "output_type": "error",
     "traceback": [
      "\u001b[1;31m---------------------------------------------------------------------------\u001b[0m",
      "\u001b[1;31mPlatformException\u001b[0m                         Traceback (most recent call last)",
      "Cell \u001b[1;32mIn[19], line 12\u001b[0m\n\u001b[0;32m      9\u001b[0m         \u001b[38;5;28;01mraise\u001b[39;00m PlatformException(\u001b[38;5;124m\"\u001b[39m\u001b[38;5;124mFunction can only run on Linux systems.\u001b[39m\u001b[38;5;124m\"\u001b[39m)\n\u001b[0;32m     10\u001b[0m     \u001b[38;5;28mprint\u001b[39m(\u001b[38;5;124m\"\u001b[39m\u001b[38;5;124mDoing Linux things.\u001b[39m\u001b[38;5;124m\"\u001b[39m)\n\u001b[1;32m---> 12\u001b[0m \u001b[43mlinux_interaction_2\u001b[49m\u001b[43m(\u001b[49m\u001b[43m)\u001b[49m\n",
      "Cell \u001b[1;32mIn[19], line 9\u001b[0m, in \u001b[0;36mlinux_interaction_2\u001b[1;34m()\u001b[0m\n\u001b[0;32m      7\u001b[0m \u001b[38;5;28;01mimport\u001b[39;00m \u001b[38;5;21;01msys\u001b[39;00m\n\u001b[0;32m      8\u001b[0m \u001b[38;5;28;01mif\u001b[39;00m \u001b[38;5;124m\"\u001b[39m\u001b[38;5;124mlinux\u001b[39m\u001b[38;5;124m\"\u001b[39m \u001b[38;5;129;01mnot\u001b[39;00m \u001b[38;5;129;01min\u001b[39;00m sys\u001b[38;5;241m.\u001b[39mplatform:\n\u001b[1;32m----> 9\u001b[0m     \u001b[38;5;28;01mraise\u001b[39;00m PlatformException(\u001b[38;5;124m\"\u001b[39m\u001b[38;5;124mFunction can only run on Linux systems.\u001b[39m\u001b[38;5;124m\"\u001b[39m)\n\u001b[0;32m     10\u001b[0m \u001b[38;5;28mprint\u001b[39m(\u001b[38;5;124m\"\u001b[39m\u001b[38;5;124mDoing Linux things.\u001b[39m\u001b[38;5;124m\"\u001b[39m)\n",
      "\u001b[1;31mPlatformException\u001b[0m: Function can only run on Linux systems."
     ]
    }
   ],
   "source": [
    "# Custom exceptions\n",
    "\n",
    "class PlatformException(Exception):\n",
    "    \"\"\"Incompatible platform.\"\"\"\n",
    "\n",
    "def linux_interaction_2():\n",
    "    import sys\n",
    "    if \"linux\" not in sys.platform:\n",
    "        raise PlatformException(\"Function can only run on Linux systems.\")\n",
    "    print(\"Doing Linux things.\")\n",
    "\n",
    "linux_interaction_2()"
   ]
  },
  {
   "cell_type": "code",
   "execution_count": null,
   "metadata": {},
   "outputs": [],
   "source": []
  }
 ],
 "metadata": {
  "kernelspec": {
   "display_name": ".venv",
   "language": "python",
   "name": "python3"
  },
  "language_info": {
   "codemirror_mode": {
    "name": "ipython",
    "version": 3
   },
   "file_extension": ".py",
   "mimetype": "text/x-python",
   "name": "python",
   "nbconvert_exporter": "python",
   "pygments_lexer": "ipython3",
   "version": "3.12.0"
  }
 },
 "nbformat": 4,
 "nbformat_minor": 2
}
