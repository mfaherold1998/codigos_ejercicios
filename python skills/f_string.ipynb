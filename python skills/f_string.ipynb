{
 "cells": [
  {
   "cell_type": "code",
   "execution_count": 1,
   "metadata": {},
   "outputs": [
    {
     "data": {
      "text/plain": [
       "\"Hello, Jane! You're 25 years old.\""
      ]
     },
     "execution_count": 1,
     "metadata": {},
     "output_type": "execute_result"
    }
   ],
   "source": [
    "# f-sting is faster than .format() y %\n",
    "# Python evaluates f-strings at runtime.\n",
    "name = \"Jane\"\n",
    "age = 25\n",
    "\n",
    "f\"Hello, {name}! You're {age} years old.\""
   ]
  },
  {
   "cell_type": "code",
   "execution_count": 2,
   "metadata": {},
   "outputs": [
    {
     "data": {
      "text/plain": [
       "'42'"
      ]
     },
     "execution_count": 2,
     "metadata": {},
     "output_type": "execute_result"
    }
   ],
   "source": [
    "#Embedding expresions\n",
    "f\"{2 * 21}\""
   ]
  },
  {
   "cell_type": "code",
   "execution_count": 4,
   "metadata": {},
   "outputs": [
    {
     "data": {
      "text/plain": [
       "'[8, 16, 32, 64, 128, 256]'"
      ]
     },
     "execution_count": 4,
     "metadata": {},
     "output_type": "execute_result"
    }
   ],
   "source": [
    "#You could also use other Python expressions, including function and method calls, and even \n",
    "# comprehensions or other more complex expressions\n",
    "\n",
    "f\"Hello, {name.upper()}! You're {age} years old.\"\n",
    "f\"{[2**n for n in range(3, 9)]}\""
   ]
  },
  {
   "cell_type": "code",
   "execution_count": 5,
   "metadata": {},
   "outputs": [
    {
     "data": {
      "text/plain": [
       "'Balance: $5425.93'"
      ]
     },
     "execution_count": 5,
     "metadata": {},
     "output_type": "execute_result"
    }
   ],
   "source": [
    "balance = 5425.9292\n",
    "f\"Balance: ${balance:.2f}\""
   ]
  },
  {
   "cell_type": "code",
   "execution_count": 6,
   "metadata": {},
   "outputs": [
    {
     "data": {
      "text/plain": [
       "'=======Centered string========'"
      ]
     },
     "execution_count": 6,
     "metadata": {},
     "output_type": "execute_result"
    }
   ],
   "source": [
    "heading = \"Centered string\"\n",
    "f\"{heading:=^30}\""
   ]
  },
  {
   "cell_type": "code",
   "execution_count": 7,
   "metadata": {},
   "outputs": [
    {
     "data": {
      "text/plain": [
       "'Comma as thousand separators: -1,234,567'"
      ]
     },
     "execution_count": 7,
     "metadata": {},
     "output_type": "execute_result"
    }
   ],
   "source": [
    "integer = -1234567\n",
    "f\"Comma as thousand separators: {integer:,}\""
   ]
  },
  {
   "cell_type": "code",
   "execution_count": 8,
   "metadata": {},
   "outputs": [
    {
     "data": {
      "text/plain": [
       "\"User's thousand separators: -1_234_567\""
      ]
     },
     "execution_count": 8,
     "metadata": {},
     "output_type": "execute_result"
    }
   ],
   "source": [
    "sep = \"_\"\n",
    "f\"User's thousand separators: {integer:{sep}}\""
   ]
  },
  {
   "cell_type": "code",
   "execution_count": 9,
   "metadata": {},
   "outputs": [
    {
     "data": {
      "text/plain": [
       "'Comma as thousand separators and two decimals: 1,234,567.99'"
      ]
     },
     "execution_count": 9,
     "metadata": {},
     "output_type": "execute_result"
    }
   ],
   "source": [
    "floating_point = 1234567.9876\n",
    "f\"Comma as thousand separators and two decimals: {floating_point:,.2f}\""
   ]
  },
  {
   "cell_type": "code",
   "execution_count": 10,
   "metadata": {},
   "outputs": [
    {
     "data": {
      "text/plain": [
       "'Date: 09-06-2023'"
      ]
     },
     "execution_count": 10,
     "metadata": {},
     "output_type": "execute_result"
    }
   ],
   "source": [
    "date = (9, 6, 2023)\n",
    "f\"Date: {date[0]:02}-{date[1]:02}-{date[2]}\""
   ]
  },
  {
   "cell_type": "code",
   "execution_count": 11,
   "metadata": {},
   "outputs": [
    {
     "data": {
      "text/plain": [
       "'Date: 09/26/2023'"
      ]
     },
     "execution_count": 11,
     "metadata": {},
     "output_type": "execute_result"
    }
   ],
   "source": [
    "from datetime import datetime\n",
    "date = datetime(2023, 9, 26)\n",
    "f\"Date: {date:%m/%d/%Y}\""
   ]
  },
  {
   "cell_type": "code",
   "execution_count": 12,
   "metadata": {},
   "outputs": [],
   "source": [
    "# Python acepta dos banderas para f-string\n",
    "# !s\tInterpolates the string representation from the .__str__() method\n",
    "# !r\tInterpolates the string representation from the .__repr__() method"
   ]
  },
  {
   "cell_type": "code",
   "execution_count": null,
   "metadata": {},
   "outputs": [],
   "source": [
    "from person import Person\n",
    "jane = Person(\"Jane Doe\", 25)\n",
    "f\"{jane!s}\" #\"I'm Jane Doe, and I'm 25 years old.\"\n",
    "f\"{jane!r}\" #\"Person(name='Jane Doe', age=25)\""
   ]
  },
  {
   "cell_type": "code",
   "execution_count": 13,
   "metadata": {},
   "outputs": [
    {
     "name": "stdout",
     "output_type": "stream",
     "text": [
      "variable = 'Some mysterious value'\n"
     ]
    }
   ],
   "source": [
    "#Self-documenting\n",
    "\n",
    "variable = \"Some mysterious value\"\n",
    "print(f\"{variable = }\")\n",
    "\n",
    "# You can use a variable name followed by an equal sign (=) in an f-string to create a \n",
    "# self-documented expression."
   ]
  },
  {
   "cell_type": "code",
   "execution_count": null,
   "metadata": {},
   "outputs": [],
   "source": [
    "# Dict unpacking operator\n",
    "\"Hello, {name}! You're {age} years old.\".format(**person) #\"Hello, Jane Doe! You're 25 years old.\"\n",
    "\n",
    "\"Hello, {name}!\".format(**person) #'Hello, Jane Doe!'"
   ]
  },
  {
   "cell_type": "code",
   "execution_count": null,
   "metadata": {},
   "outputs": [],
   "source": []
  }
 ],
 "metadata": {
  "kernelspec": {
   "display_name": ".venv",
   "language": "python",
   "name": "python3"
  },
  "language_info": {
   "codemirror_mode": {
    "name": "ipython",
    "version": 3
   },
   "file_extension": ".py",
   "mimetype": "text/x-python",
   "name": "python",
   "nbconvert_exporter": "python",
   "pygments_lexer": "ipython3",
   "version": "3.12.0"
  }
 },
 "nbformat": 4,
 "nbformat_minor": 2
}
