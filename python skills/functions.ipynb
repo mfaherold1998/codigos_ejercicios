{
 "cells": [
  {
   "cell_type": "code",
   "execution_count": 1,
   "metadata": {},
   "outputs": [],
   "source": [
    "# Razones para usar funciones:\n",
    "# 1. Reutilización de código y abstraccion\n",
    "# 2. Modularidad\n",
    "# 3. Namespace separation"
   ]
  },
  {
   "cell_type": "code",
   "execution_count": 2,
   "metadata": {},
   "outputs": [
    {
     "name": "stdout",
     "output_type": "stream",
     "text": [
      "6 bananas cost $1.74\n"
     ]
    }
   ],
   "source": [
    "# positional arguments: also called required arguments\n",
    "def f(qty, item, price):\n",
    "    print(f'{qty} {item} cost ${price:.2f}')\n",
    "\n",
    "f(6, 'bananas', 1.74)\n",
    "\n",
    "# the parameters given in the function definition are referred to as formal parameters, \n",
    "# and the arguments in the function call are referred to as actual parameters.\n",
    "#the order of the arguments in the call must match the order of the parameters in the definition."
   ]
  },
  {
   "cell_type": "code",
   "execution_count": 3,
   "metadata": {},
   "outputs": [
    {
     "name": "stdout",
     "output_type": "stream",
     "text": [
      "6 bananas cost $1.74\n"
     ]
    }
   ],
   "source": [
    "# Keyword arguments\n",
    "f(qty=6, item='bananas', price=1.74)\n",
    "# Using keyword arguments lifts the restriction on argument order\n",
    "# the number of arguments and parameters must match\n",
    "# When positional and keyword arguments are both present, all the positional \n",
    "# arguments must come first.\n",
    "# Once you’ve specified a keyword argument, there can’t be any positional \n",
    "# arguments to the right of it"
   ]
  },
  {
   "cell_type": "code",
   "execution_count": 4,
   "metadata": {},
   "outputs": [],
   "source": [
    "# Default parameters\n",
    "def f(qty=6, item='bananas', price=1.74):\n",
    "    print(f'{qty} {item} cost ${price:.2f}')"
   ]
  },
  {
   "cell_type": "code",
   "execution_count": 9,
   "metadata": {},
   "outputs": [
    {
     "data": {
      "text/plain": [
       "['###', '###', '###']"
      ]
     },
     "execution_count": 9,
     "metadata": {},
     "output_type": "execute_result"
    }
   ],
   "source": [
    "# Mutable Default Parameter Values\n",
    "# In Python, default parameter values are defined only once when the function is defined \n",
    "# The default value isn’t re-defined each time the function is called. Thus, each time you \n",
    "# call f() without a parameter, you’re performing .append() on the same list.\n",
    "\n",
    "def f(my_list=[]):\n",
    "    my_list.append('###')\n",
    "    return my_list\n",
    "\n",
    "f(['foo', 'bar', 'baz']) #['foo', 'bar', 'baz', '###']\n",
    "f([1, 2, 3, 4, 5]) #['foo', 'bar', 'baz', '###']\n",
    "f() # ['###']\n",
    "f() # ['###', '###']\n",
    "f() # ['###', '###', '###']"
   ]
  },
  {
   "cell_type": "code",
   "execution_count": 13,
   "metadata": {},
   "outputs": [
    {
     "data": {
      "text/plain": [
       "['###']"
      ]
     },
     "execution_count": 13,
     "metadata": {},
     "output_type": "execute_result"
    }
   ],
   "source": [
    "# Solution\n",
    "def f(my_list=None):\n",
    "    if my_list is None:\n",
    "        my_list = []\n",
    "    my_list.append('###')\n",
    "    return my_list\n",
    "\n",
    "f()\n",
    "f()\n",
    "f()"
   ]
  },
  {
   "cell_type": "code",
   "execution_count": 14,
   "metadata": {},
   "outputs": [
    {
     "data": {
      "text/plain": [
       "5"
      ]
     },
     "execution_count": 14,
     "metadata": {},
     "output_type": "execute_result"
    }
   ],
   "source": [
    "# Pass-by-value: A copy of the argument is passed to the function.\n",
    "# Pass-by-reference: A reference to the argument is passed to the function.\n",
    "\n",
    "# In Python, every piece of data is an object\n",
    "# A reference points to an object, not a specific memory location\n",
    "\n",
    "# Python’s argument-passing mechanism has been called pass-by-assignment.\n",
    "\n",
    "def f(fx):\n",
    "    fx = 10\n",
    "\n",
    "x = 5\n",
    "f(x)\n",
    "x"
   ]
  },
  {
   "cell_type": "code",
   "execution_count": 15,
   "metadata": {},
   "outputs": [
    {
     "data": {
      "text/plain": [
       "['---', 'bar', 'baz', 'qux']"
      ]
     },
     "execution_count": 15,
     "metadata": {},
     "output_type": "execute_result"
    }
   ],
   "source": [
    "def f(x):\n",
    "    x[0] = '---'\n",
    "\n",
    "my_list = ['foo', 'bar', 'baz', 'qux']\n",
    "\n",
    "f(my_list)\n",
    "my_list\n",
    "\n",
    "# Here, f() uses x as a reference to make a change inside my_list. That change is reflected \n",
    "# in the calling environment after f() returns."
   ]
  },
  {
   "cell_type": "code",
   "execution_count": 17,
   "metadata": {},
   "outputs": [
    {
     "name": "stdout",
     "output_type": "stream",
     "text": [
      "(1, 2, 3)\n",
      "<class 'tuple'> 3\n",
      "1\n",
      "2\n",
      "3\n",
      "('foo', 'bar', 'baz', 'qux', 'quux')\n",
      "<class 'tuple'> 5\n",
      "foo\n",
      "bar\n",
      "baz\n",
      "qux\n",
      "quux\n"
     ]
    }
   ],
   "source": [
    "# a Python function is said to cause a side effect if it modifies its calling environment in \n",
    "# any way. Changing the value of a function argument is just one of the possibilities.\n",
    "\n",
    "# When a parameter name in a Python function definition is preceded by an asterisk (*), it \n",
    "# indicates argument tuple packing.\n",
    "\n",
    "def f(*args):\n",
    "    print(args)\n",
    "    print(type(args), len(args))\n",
    "    for x in args:\n",
    "        print(x)\n",
    "\n",
    "f(1, 2, 3)\n",
    "f('foo', 'bar', 'baz', 'qux', 'quux')"
   ]
  },
  {
   "cell_type": "code",
   "execution_count": 18,
   "metadata": {},
   "outputs": [
    {
     "name": "stdout",
     "output_type": "stream",
     "text": [
      "x = 1\n",
      "y = 2\n",
      "z = 3\n",
      "x = foo\n",
      "y = bar\n",
      "z = baz\n"
     ]
    }
   ],
   "source": [
    "# Tuple unpacking\n",
    "def f(x, y, z):\n",
    "    print(f'x = {x}')\n",
    "    print(f'y = {y}')\n",
    "    print(f'z = {z}')\n",
    "\n",
    "f(1, 2, 3)\n",
    "\n",
    "t = ('foo', 'bar', 'baz')\n",
    "f(*t)\n",
    "\n",
    "# The asterisk (*) operator can be applied to any iterable in a Python function call. \n",
    "# For example, a list or set can be unpacked as well\n"
   ]
  },
  {
   "cell_type": "code",
   "execution_count": 19,
   "metadata": {},
   "outputs": [
    {
     "name": "stdout",
     "output_type": "stream",
     "text": [
      "{'foo': 1, 'bar': 2, 'baz': 3}\n",
      "<class 'dict'>\n",
      "foo -> 1\n",
      "bar -> 2\n",
      "baz -> 3\n"
     ]
    }
   ],
   "source": [
    "# dictionary packing and unpacking (**)\n",
    "\n",
    "def f(**kwargs):\n",
    "    print(kwargs)\n",
    "    print(type(kwargs))\n",
    "    for key, val in kwargs.items():\n",
    "        print(key, '->', val)\n",
    "\n",
    "f(foo=1, bar=2, baz=3)"
   ]
  },
  {
   "cell_type": "code",
   "execution_count": 20,
   "metadata": {},
   "outputs": [
    {
     "name": "stdout",
     "output_type": "stream",
     "text": [
      "a = foo\n",
      "b = 25\n",
      "c = qux\n"
     ]
    }
   ],
   "source": [
    "# Dict unpacking\n",
    "\n",
    "def f(a, b, c):\n",
    "    print(F'a = {a}')\n",
    "    print(F'b = {b}')\n",
    "    print(F'c = {c}')\n",
    "\n",
    "d = {'a': 'foo', 'b': 25, 'c': 'qux'}\n",
    "f(**d)"
   ]
  },
  {
   "cell_type": "code",
   "execution_count": 21,
   "metadata": {},
   "outputs": [
    {
     "name": "stdout",
     "output_type": "stream",
     "text": [
      "a = 1\n",
      "b = 2\n",
      "args = ('foo', 'bar', 'baz', 'qux')\n",
      "kwargs = {'x': 100, 'y': 200, 'z': 300}\n"
     ]
    }
   ],
   "source": [
    "# Think of *args as a variable-length positional argument list, \n",
    "# and **kwargs as a variable-length keyword argument list.\n",
    "\n",
    "# All three—standard positional parameters, *args, and **kwargs—can be used in one Python \n",
    "# function definition. If so, then they should be specified in that order:\n",
    "\n",
    "def f(a, b, *args, **kwargs):\n",
    "    print(F'a = {a}')\n",
    "    print(F'b = {b}')\n",
    "    print(F'args = {args}')\n",
    "    print(F'kwargs = {kwargs}')\n",
    "\n",
    "f(1, 2, 'foo', 'bar', 'baz', 'qux', x=100, y=200, z=300)"
   ]
  },
  {
   "cell_type": "code",
   "execution_count": 23,
   "metadata": {},
   "outputs": [
    {
     "name": "stdout",
     "output_type": "stream",
     "text": [
      "1\n",
      "2\n",
      "3\n",
      "4\n",
      "5\n",
      "6\n",
      "8\n",
      "9\n",
      "7\n",
      "a -> 1\n",
      "b -> 2\n",
      "x -> 3\n",
      "y -> 4\n"
     ]
    }
   ],
   "source": [
    "# Multiple unpacking in a single call\n",
    "\n",
    "def f(*args):\n",
    "    for i in args:\n",
    "        print(i)\n",
    "\n",
    "a = [1, 2, 3]\n",
    "t = (4, 5, 6)\n",
    "s = {7, 8, 9}\n",
    "\n",
    "f(*a, *t, *s)\n",
    "\n",
    "\n",
    "def f(**kwargs):\n",
    "    for k, v in kwargs.items():\n",
    "        print(k, '->', v)\n",
    "\n",
    "\n",
    "d1 = {'a': 1, 'b': 2}\n",
    "d2 = {'x': 3, 'y': 4}\n",
    "\n",
    "f(**d1, **d2)"
   ]
  },
  {
   "cell_type": "code",
   "execution_count": 24,
   "metadata": {},
   "outputs": [
    {
     "name": "stdout",
     "output_type": "stream",
     "text": [
      "-> a.b.c\n"
     ]
    }
   ],
   "source": [
    "#Unir varios strings separados por un punto\n",
    "def concat(*args):\n",
    "    print(f'-> {\".\".join(args)}')\n",
    "\n",
    "concat('a', 'b', 'c')"
   ]
  },
  {
   "cell_type": "code",
   "execution_count": 25,
   "metadata": {},
   "outputs": [
    {
     "name": "stdout",
     "output_type": "stream",
     "text": [
      "//a.b.c\n"
     ]
    }
   ],
   "source": [
    "def concat(prefix, *args):\n",
    "    print(f'{prefix}{\".\".join(args)}')\n",
    "\n",
    "concat('//', 'a', 'b', 'c')"
   ]
  },
  {
   "cell_type": "code",
   "execution_count": 26,
   "metadata": {},
   "outputs": [
    {
     "name": "stdout",
     "output_type": "stream",
     "text": [
      "... a.b.c\n"
     ]
    }
   ],
   "source": [
    "# Keyword-only arguments\n",
    "\n",
    "def concat(*args, prefix='-> '):\n",
    "    print(f'{prefix}{\".\".join(args)}') \n",
    "\n",
    "# In that case, prefix becomes a keyword-only parameter. Its value will never be filled by a \n",
    "# positional argument. It can only be specified by a named keyword argument.\n",
    "\n",
    "concat('a', 'b', 'c', prefix='... ')"
   ]
  },
  {
   "cell_type": "code",
   "execution_count": 27,
   "metadata": {},
   "outputs": [
    {
     "name": "stdout",
     "output_type": "stream",
     "text": [
      "-> a.b.c\n"
     ]
    }
   ],
   "source": [
    "# Keyword-only arguments allow a Python function to take a variable number of arguments, \n",
    "# followed by one or more additional options as keyword arguments.\n",
    "\n",
    "def concat(*args, prefix='-> ', sep='.'):\n",
    "    print(f'{prefix}{sep.join(args)}')\n",
    "\n",
    "concat('a', 'b', 'c')"
   ]
  },
  {
   "cell_type": "code",
   "execution_count": 28,
   "metadata": {},
   "outputs": [
    {
     "name": "stdout",
     "output_type": "stream",
     "text": [
      "//a.b.c\n"
     ]
    }
   ],
   "source": [
    "concat('a', 'b', 'c', prefix='//')"
   ]
  },
  {
   "cell_type": "code",
   "execution_count": 29,
   "metadata": {},
   "outputs": [
    {
     "name": "stdout",
     "output_type": "stream",
     "text": [
      "//a-b-c\n"
     ]
    }
   ],
   "source": [
    "concat('a', 'b', 'c', prefix='//', sep='-')"
   ]
  },
  {
   "cell_type": "code",
   "execution_count": 32,
   "metadata": {},
   "outputs": [
    {
     "data": {
      "text/plain": [
       "0.75"
      ]
     },
     "execution_count": 32,
     "metadata": {},
     "output_type": "execute_result"
    }
   ],
   "source": [
    "# If you wanted to make op a keyword-only parameter in a function with no optional parameters, \n",
    "# then you could add an extraneous dummy variable argument parameter and just ignore it:\n",
    "\n",
    "def oper(x, y, *, op='+'):\n",
    "    if op == '+':\n",
    "        return x + y\n",
    "    elif op == '-':\n",
    "        return x - y\n",
    "    elif op == '/':\n",
    "        return x / y\n",
    "    else:\n",
    "        return None\n",
    "    \n",
    "oper(3, 4, op='+')\n",
    "oper(3, 4, op='/')\n",
    "\n",
    "# bare variable argument parameter * indicates that there aren’t any more positional parameters "
   ]
  },
  {
   "cell_type": "code",
   "execution_count": 34,
   "metadata": {},
   "outputs": [
    {
     "name": "stdout",
     "output_type": "stream",
     "text": [
      "x: 1\n",
      "y: 2\n",
      "z: 3\n",
      "x: 1\n",
      "y: 2\n",
      "z: 3\n"
     ]
    }
   ],
   "source": [
    "# Positional-only arguments\n",
    "# To designate some parameters as positional-only, you specify a bare slash (/) in the \n",
    "# parameter list of a function definition. Any parameters to the left of the slash (/) \n",
    "# must be specified positionally.\n",
    "\n",
    "def f(x, y, /, z):\n",
    "    print(f'x: {x}')\n",
    "    print(f'y: {y}')\n",
    "    print(f'z: {z}')\n",
    "\n",
    "f(1, 2, 3)\n",
    "f(1, 2, z=3)"
   ]
  },
  {
   "cell_type": "code",
   "execution_count": 35,
   "metadata": {},
   "outputs": [
    {
     "ename": "TypeError",
     "evalue": "f() got some positional-only arguments passed as keyword arguments: 'x, y'",
     "output_type": "error",
     "traceback": [
      "\u001b[1;31m---------------------------------------------------------------------------\u001b[0m",
      "\u001b[1;31mTypeError\u001b[0m                                 Traceback (most recent call last)",
      "Cell \u001b[1;32mIn[35], line 1\u001b[0m\n\u001b[1;32m----> 1\u001b[0m \u001b[43mf\u001b[49m\u001b[43m(\u001b[49m\u001b[43mx\u001b[49m\u001b[38;5;241;43m=\u001b[39;49m\u001b[38;5;241;43m1\u001b[39;49m\u001b[43m,\u001b[49m\u001b[43m \u001b[49m\u001b[43my\u001b[49m\u001b[38;5;241;43m=\u001b[39;49m\u001b[38;5;241;43m2\u001b[39;49m\u001b[43m,\u001b[49m\u001b[43m \u001b[49m\u001b[43mz\u001b[49m\u001b[38;5;241;43m=\u001b[39;49m\u001b[38;5;241;43m3\u001b[39;49m\u001b[43m)\u001b[49m\n",
      "\u001b[1;31mTypeError\u001b[0m: f() got some positional-only arguments passed as keyword arguments: 'x, y'"
     ]
    }
   ],
   "source": [
    "f(x=1, y=2, z=3)\n",
    "# No se pueden especificar como keywords los positional-only"
   ]
  },
  {
   "cell_type": "code",
   "execution_count": 38,
   "metadata": {},
   "outputs": [
    {
     "data": {
      "text/plain": [
       "'<a>'"
      ]
     },
     "execution_count": 38,
     "metadata": {},
     "output_type": "execute_result"
    }
   ],
   "source": [
    "# Function annotation: Annotations provide a way to attach metadata to a function’s parameters \n",
    "# and return value.\n",
    "\n",
    "def f(a: '<a>', b: '<b>') -> '<ret_value>':\n",
    "    pass\n",
    "\n",
    "f.__annotations__\n",
    "\n",
    "f.__annotations__['a']\n"
   ]
  },
  {
   "cell_type": "code",
   "execution_count": 41,
   "metadata": {},
   "outputs": [
    {
     "data": {
      "text/plain": [
       "\"\\n>>> def area(\\n...     r: {\\n...            'desc': 'radius of circle',\\n...            'type': float\\n...        }) -> ...        {\\n...            'desc': 'area of circle',\\n...            'type': float\\n...        }:\\n...     return 3.14159 * (r ** 2)\\n...\\n\\n>>> area(2.5)\\n19.6349375\\n\\n>>> area.__annotations__\\n{'r': {'desc': 'radius of circle', 'type': <class 'float'>},\\n'return': {'desc': 'area of circle', 'type': <class 'float'>}}\\n\\n>>> area.__annotations__['r']['desc']\\n'radius of circle'\\n>>> area.__annotations__['return']['type']\\n<class 'float'>\\n\""
      ]
     },
     "execution_count": 41,
     "metadata": {},
     "output_type": "execute_result"
    }
   ],
   "source": [
    "# An annotation can even be a composite object like a list or a dictionary, so it’s possible to \n",
    "# attach multiple items of metadata to the parameters and return value.\n",
    "\n",
    "'''\n",
    ">>> def area(\n",
    "...     r: {\n",
    "...            'desc': 'radius of circle',\n",
    "...            'type': float\n",
    "...        }) -> \\\n",
    "...        {\n",
    "...            'desc': 'area of circle',\n",
    "...            'type': float\n",
    "...        }:\n",
    "...     return 3.14159 * (r ** 2)\n",
    "...\n",
    "\n",
    ">>> area(2.5)\n",
    "19.6349375\n",
    "\n",
    ">>> area.__annotations__\n",
    "{'r': {'desc': 'radius of circle', 'type': <class 'float'>},\n",
    "'return': {'desc': 'area of circle', 'type': <class 'float'>}}\n",
    "\n",
    ">>> area.__annotations__['r']['desc']\n",
    "'radius of circle'\n",
    ">>> area.__annotations__['return']['type']\n",
    "<class 'float'>\n",
    "'''"
   ]
  },
  {
   "cell_type": "code",
   "execution_count": 43,
   "metadata": {},
   "outputs": [
    {
     "name": "stdout",
     "output_type": "stream",
     "text": [
      "12 baz\n"
     ]
    },
    {
     "data": {
      "text/plain": [
       "3.5"
      ]
     },
     "execution_count": 43,
     "metadata": {},
     "output_type": "execute_result"
    }
   ],
   "source": [
    "# Annadir valor por defecto a un parametro con anotaciones\n",
    "def f(a: int = 12, b: str = 'baz') -> float:\n",
    "    print(a, b)\n",
    "    return(3.5)\n",
    "\n",
    "f.__annotations__\n",
    "\n",
    "f()"
   ]
  },
  {
   "cell_type": "code",
   "execution_count": null,
   "metadata": {},
   "outputs": [],
   "source": [
    "# Annotations don’t impose any semantic restrictions on the code whatsoever. \n",
    "# They’re simply bits of metadata attached to the Python function parameters and return value.\n",
    "\n"
   ]
  }
 ],
 "metadata": {
  "kernelspec": {
   "display_name": ".venv",
   "language": "python",
   "name": "python3"
  },
  "language_info": {
   "codemirror_mode": {
    "name": "ipython",
    "version": 3
   },
   "file_extension": ".py",
   "mimetype": "text/x-python",
   "name": "python",
   "nbconvert_exporter": "python",
   "pygments_lexer": "ipython3",
   "version": "3.12.0"
  }
 },
 "nbformat": 4,
 "nbformat_minor": 2
}
