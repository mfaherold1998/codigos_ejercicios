{
 "cells": [
  {
   "cell_type": "code",
   "execution_count": 4,
   "metadata": {},
   "outputs": [
    {
     "name": "stderr",
     "output_type": "stream",
     "text": [
      "WARNING:root:Keep calm!\n"
     ]
    }
   ],
   "source": [
    "import logging\n",
    "logging.warning(\"Keep calm!\")\n",
    "\n",
    "#root logger: the main logger of the logging module\n",
    "#log level: Warning\n",
    "\n",
    "# By default, there are five standard levels indicating the severity of events. Each has a \n",
    "# corresponding function that can be used to log events at that level of severity.\n",
    "#   logging.debug()\n",
    "#   logging.info()\n",
    "#   logging.warning()\n",
    "#   logging.error()\n",
    "#   logging.critical()\n",
    "\n",
    "# By default, the logging module logs the messages with a severity level of WARNING or above."
   ]
  },
  {
   "cell_type": "code",
   "execution_count": 12,
   "metadata": {},
   "outputs": [],
   "source": [
    "\n",
    "#  basicConfig() => set up your basic logging configuration and adjust the log level\n",
    "logging.basicConfig(level=logging.DEBUG)\n",
    "\n",
    "logging.debug(\"This is a debug message\") \n",
    "logging.info(\"This is an info message\")\n",
    "\n",
    "#No funciona en jupyter notebook"
   ]
  },
  {
   "cell_type": "code",
   "execution_count": 15,
   "metadata": {},
   "outputs": [
    {
     "name": "stderr",
     "output_type": "stream",
     "text": [
      "2024-09-14 15:45:18,043 - DEBUG - This is a debug message\n",
      "2024-09-14 15:45:18,044 - INFO - This is an info message\n",
      "2024-09-14 15:45:18,044 - WARNING - This is a warning message\n",
      "2024-09-14 15:45:18,046 - ERROR - This is an error message\n"
     ]
    }
   ],
   "source": [
    "import logging\n",
    "\n",
    "# Si ya hay handlers existentes, eliminarlos\n",
    "for handler in logging.root.handlers[:]:\n",
    "    logging.root.removeHandler(handler)\n",
    "\n",
    "# Configurar el logger desde cero\n",
    "logging.basicConfig(level=logging.DEBUG, format='%(asctime)s - %(levelname)s - %(message)s')\n",
    "\n",
    "logging.debug(\"This is a debug message\")\n",
    "logging.info(\"This is an info message\")\n",
    "logging.warning(\"This is a warning message\")\n",
    "logging.error(\"This is an error message\")"
   ]
  },
  {
   "cell_type": "code",
   "execution_count": 16,
   "metadata": {},
   "outputs": [
    {
     "name": "stderr",
     "output_type": "stream",
     "text": [
      "2024-09-14 16:29:15,643 - WARNING - Hello, Warning!\n"
     ]
    }
   ],
   "source": [
    "#Formatting the output\n",
    "# The format parameter accepts a string that can contain a number of predefined attributes.\n",
    "\n",
    "logging.basicConfig(format=\"{levelname}:{name}:{message}\", style=\"{\")\n",
    "logging.warning(\"Hello, Warning!\")\n",
    "\n",
    "#Una vez modificado el logger con basicConfig() ya no se puede cambiar. Si se quiere cambiar\n",
    "# la configuracion o el formato se tiene que reiniciar el programa\n",
    "\n",
    "#Formato basico por defecto: logging.basicConfig(format=\"%(levelname)s:%(name)s:%(message)s\")"
   ]
  },
  {
   "cell_type": "code",
   "execution_count": 17,
   "metadata": {},
   "outputs": [
    {
     "name": "stderr",
     "output_type": "stream",
     "text": [
      "2024-09-14 16:35:19,835 - ERROR - Something went wrong!\n"
     ]
    }
   ],
   "source": [
    "# datefmt => es para no mostrar milisegundos como asctime\n",
    "logging.basicConfig(\n",
    "    format=\"{asctime} - {levelname} - {message}\",\n",
    "    style=\"{\",\n",
    "    datefmt=\"%Y-%m-%d %H:%M\",\n",
    "    )\n",
    "\n",
    "logging.error(\"Something went wrong!\")\n",
    "\n",
    "#Time directives in str: https://docs.python.org/3/library/time.html#time.strftime"
   ]
  },
  {
   "cell_type": "code",
   "execution_count": 18,
   "metadata": {},
   "outputs": [
    {
     "name": "stderr",
     "output_type": "stream",
     "text": [
      "2024-09-14 16:42:35,849 - WARNING - Save me!\n"
     ]
    }
   ],
   "source": [
    "# Salvar el log en un file\n",
    "import logging\n",
    "logging.basicConfig(\n",
    "    filename=\"app.log\",\n",
    "    encoding=\"utf-8\",\n",
    "    filemode=\"a\",\n",
    "    format=\"{asctime} - {levelname} - {message}\",\n",
    "    style=\"{\",\n",
    "    datefmt=\"%Y-%m-%d %H:%M\",\n",
    ")\n",
    "\n",
    "logging.warning(\"Save me!\")"
   ]
  },
  {
   "cell_type": "code",
   "execution_count": null,
   "metadata": {},
   "outputs": [],
   "source": [
    "# Including more information\n",
    "\n",
    "name = \"Samara\"\n",
    "logging.debug(f\"{name=}\")"
   ]
  },
  {
   "cell_type": "code",
   "execution_count": 19,
   "metadata": {},
   "outputs": [
    {
     "name": "stderr",
     "output_type": "stream",
     "text": [
      "2024-09-14 21:25:22,831 - ERROR - DonutCalculationError\n",
      "Traceback (most recent call last):\n",
      "  File \"C:\\Users\\hp\\AppData\\Local\\Temp\\ipykernel_14544\\824104980.py\", line 14, in <module>\n",
      "    donuts_per_guest = donuts / guests\n",
      "                       ~~~~~~~^~~~~~~~\n",
      "ZeroDivisionError: division by zero\n"
     ]
    }
   ],
   "source": [
    "import logging\n",
    "logging.basicConfig(\n",
    "     filename=\"app.log\",\n",
    "     encoding=\"utf-8\",\n",
    "     filemode=\"a\",\n",
    "     format=\"{asctime} - {levelname} - {message}\",\n",
    "     style=\"{\",\n",
    "     datefmt=\"%Y-%m-%d %H:%M\",\n",
    " )\n",
    "\n",
    "donuts = 5\n",
    "guests = 0\n",
    "try:\n",
    "    donuts_per_guest = donuts / guests\n",
    "except ZeroDivisionError:\n",
    "    logging.error(\"DonutCalculationError\", exc_info=True)\n"
   ]
  },
  {
   "cell_type": "code",
   "execution_count": null,
   "metadata": {},
   "outputs": [],
   "source": [
    "# logging.exception() => This function logs a message with the level ERROR and adds \n",
    "# exception information to the message.\n",
    "\n",
    "try:\n",
    "    donuts_per_guest = donuts / guests\n",
    "except ZeroDivisionError:\n",
    "    logging.exception(\"DonutCalculationError\")"
   ]
  },
  {
   "cell_type": "code",
   "execution_count": 20,
   "metadata": {},
   "outputs": [
    {
     "name": "stderr",
     "output_type": "stream",
     "text": [
      "2024-09-14 21:57:42,603 - WARNING - Hello\n"
     ]
    }
   ],
   "source": [
    "# Create custom logger\n",
    "\n",
    "logger = logging.getLogger(__name__)\n",
    "logger.warning('Hello')\n",
    "\n",
    "# __name__ => module's name\n",
    "# you can’t configure a custom logger using basicConfig()\n",
    "# you have to configure your custom logger using handlers and formatters"
   ]
  },
  {
   "cell_type": "code",
   "execution_count": 22,
   "metadata": {},
   "outputs": [
    {
     "data": {
      "text/plain": [
       "[<StreamHandler stderr (NOTSET)>,\n",
       " <FileHandler c:\\Users\\hp\\Documents\\!Work\\codigos\\codigos_ejercicios\\python skills\\app.log (NOTSET)>]"
      ]
     },
     "execution_count": 22,
     "metadata": {},
     "output_type": "execute_result"
    }
   ],
   "source": [
    "# A logger that you create can have one or more handlers. That means you can send your logs \n",
    "# to multiple places when they’re generated.\n",
    "\n",
    "import logging\n",
    "logger = logging.getLogger(__name__)\n",
    "console_handler = logging.StreamHandler()\n",
    "file_handler = logging.FileHandler(\"app.log\", mode=\"a\", encoding=\"utf-8\")\n",
    "logger.addHandler(console_handler)\n",
    "logger.addHandler(file_handler)\n",
    "logger.handlers\n",
    "\n",
    "# NONSET => log level de los handlers"
   ]
  },
  {
   "cell_type": "code",
   "execution_count": 24,
   "metadata": {},
   "outputs": [
    {
     "name": "stderr",
     "output_type": "stream",
     "text": [
      "Hallo\n",
      "2024-09-14 22:18:28,648 - WARNING - Hallo\n"
     ]
    }
   ],
   "source": [
    "logger.warning('Hallo')\n",
    "#Se imprime en consola y se guarda en el file (la primera salida)\n",
    "\n",
    "# Otros handlers:\n",
    "# RotatingFileHandler => creates a new log file once a file size limit is reached\n",
    "# TimedRotatingFileHandler => which you can create a new log file for defined intervals."
   ]
  },
  {
   "cell_type": "code",
   "execution_count": 25,
   "metadata": {},
   "outputs": [
    {
     "name": "stderr",
     "output_type": "stream",
     "text": [
      "Stay calm!\n",
      "2024-09-14 22:21 - WARNING - Stay calm!\n",
      "2024-09-14 22:21:19,327 - WARNING - Stay calm!\n"
     ]
    }
   ],
   "source": [
    "# Adding formatting to the handlers\n",
    "import logging\n",
    "\n",
    "logger = logging.getLogger(__name__)\n",
    "\n",
    "\n",
    "console_handler = logging.StreamHandler()\n",
    "file_handler = logging.FileHandler(\"app.log\", mode=\"a\", encoding=\"utf-8\")\n",
    "\n",
    "logger.addHandler(console_handler)\n",
    "logger.addHandler(file_handler)\n",
    "\n",
    "formatter = logging.Formatter(\n",
    "   \"{asctime} - {levelname} - {message}\",\n",
    "    style=\"{\",\n",
    "    datefmt=\"%Y-%m-%d %H:%M\",\n",
    ")\n",
    "\n",
    "console_handler.setFormatter(formatter)\n",
    "\n",
    "logger.warning(\"Stay calm!\")"
   ]
  },
  {
   "cell_type": "code",
   "execution_count": 26,
   "metadata": {},
   "outputs": [
    {
     "data": {
      "text/plain": [
       "10"
      ]
     },
     "execution_count": 26,
     "metadata": {},
     "output_type": "execute_result"
    }
   ],
   "source": [
    "# Setting log level of custom loggers\n",
    "# 0 => NONSET\n",
    "# 10 => DEBUG\n",
    "# 20 => INFO\n",
    "# 30 => WARNING\n",
    "# 40 => ERROR\n",
    "# 50 => CRITICAL\n",
    "# .getEffectiveLevel() => is an integer that stands for the log level.\n",
    "\n",
    "logger.getEffectiveLevel()\n"
   ]
  },
  {
   "cell_type": "code",
   "execution_count": 27,
   "metadata": {},
   "outputs": [],
   "source": [
    "logger.setLevel(10) # con el numero\n",
    "logger.setLevel(\"INFO\") # con el label\n",
    "\n",
    "# You use the .setLevel() method to set the log level of your logger. Any handler that you \n",
    "# add to the logger will recognize this log level:"
   ]
  },
  {
   "cell_type": "code",
   "execution_count": 28,
   "metadata": {},
   "outputs": [
    {
     "name": "stderr",
     "output_type": "stream",
     "text": [
      "Just checking in!\n",
      "2024-09-14 22:36 - DEBUG - Just checking in!\n",
      "DEBUG - Just checking in!\n",
      "2024-09-14 22:36:29,045 - DEBUG - Just checking in!\n"
     ]
    }
   ],
   "source": [
    "#Buena practica: definir el logger en debug y definir los handlers en el nivel que se \n",
    "# quiera para cada uno\n",
    "import logging\n",
    "\n",
    "logger = logging.getLogger(__name__)\n",
    "logger.setLevel(\"DEBUG\")\n",
    "formatter = logging.Formatter(\"{levelname} - {message}\", style=\"{\")\n",
    "\n",
    "console_handler = logging.StreamHandler()\n",
    "console_handler.setLevel(\"DEBUG\")\n",
    "console_handler.setFormatter(formatter)\n",
    "logger.addHandler(console_handler)\n",
    "\n",
    "file_handler = logging.FileHandler(\"app.log\", mode=\"a\", encoding=\"utf-8\")\n",
    "file_handler.setLevel(\"WARNING\")\n",
    "file_handler.setFormatter(formatter)\n",
    "logger.addHandler(file_handler)\n",
    "\n",
    "logger.debug(\"Just checking in!\")"
   ]
  },
  {
   "cell_type": "code",
   "execution_count": null,
   "metadata": {},
   "outputs": [],
   "source": [
    "# Filtering logs\n",
    "'''\n",
    "Formas de crear un filter:\n",
    "    Subclass of logging.Filter() and overwrite the .filter() method\n",
    "    Class that contains a .filter() method\n",
    "    Callable that resembles a .filter() method\n",
    "'''\n",
    "\n",
    "import logging\n",
    "\n",
    "def show_only_debug(record):\n",
    "    return record.levelname == \"DEBUG\"\n",
    "\n",
    "logger = logging.getLogger(__name__)\n",
    "logger.setLevel(\"DEBUG\")\n",
    "formatter = logging.Formatter(\"{levelname} - {message}\", style=\"{\")\n",
    "\n",
    "console_handler = logging.StreamHandler()\n",
    "console_handler.setLevel(\"DEBUG\")\n",
    "console_handler.setFormatter(formatter)\n",
    "console_handler.addFilter(show_only_debug)\n",
    "logger.addHandler(console_handler)\n",
    "\n",
    "file_handler = logging.FileHandler(\"app.log\", mode=\"a\", encoding=\"utf-8\")\n",
    "file_handler.setLevel(\"WARNING\")\n",
    "file_handler.setFormatter(formatter)\n",
    "logger.addHandler(file_handler)\n",
    "\n",
    "logger.debug(\"Just checking in!\")\n",
    "\n",
    "\n",
    "logger.warning(\"Stay curious!\")\n",
    "logger.error(\"Stay put!\")"
   ]
  },
  {
   "cell_type": "code",
   "execution_count": null,
   "metadata": {},
   "outputs": [],
   "source": []
  }
 ],
 "metadata": {
  "kernelspec": {
   "display_name": ".venv",
   "language": "python",
   "name": "python3"
  },
  "language_info": {
   "codemirror_mode": {
    "name": "ipython",
    "version": 3
   },
   "file_extension": ".py",
   "mimetype": "text/x-python",
   "name": "python",
   "nbconvert_exporter": "python",
   "pygments_lexer": "ipython3",
   "version": "3.12.0"
  }
 },
 "nbformat": 4,
 "nbformat_minor": 2
}
