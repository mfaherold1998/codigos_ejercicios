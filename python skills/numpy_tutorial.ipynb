{
 "cells": [
  {
   "cell_type": "code",
   "execution_count": 3,
   "metadata": {},
   "outputs": [],
   "source": [
    "#Numpy: provides support for large multidimensional arrays and matrices \n",
    "#Uses algorithms written in C\n",
    "#References: https://numpy.org/doc/stable/reference/arrays.ndarray.html#array-methods"
   ]
  },
  {
   "cell_type": "code",
   "execution_count": 2,
   "metadata": {},
   "outputs": [],
   "source": [
    "import numpy as np"
   ]
  },
  {
   "cell_type": "code",
   "execution_count": 3,
   "metadata": {},
   "outputs": [
    {
     "data": {
      "text/plain": [
       "array([ 91.25,  54.25,  83.25, 100.  ,  70.25, 100.  ,  93.25,  31.25])"
      ]
     },
     "execution_count": 3,
     "metadata": {},
     "output_type": "execute_result"
    }
   ],
   "source": [
    "#Example 1: Curve grades\n",
    "\n",
    "CURVE_CENTER = 80\n",
    "\n",
    "grades = np.array([72, 35, 64, 88, 51, 90, 74, 12])\n",
    "\n",
    "def curve (grades) :\n",
    "    average = grades.mean()\n",
    "    change = CURVE_CENTER - average\n",
    "    new_grades = grades + change\n",
    "    return np.clip(new_grades,grades,100)\n",
    "\n",
    "curve(grades)\n",
    "\n",
    "'''\n",
    "np.clip(array, min, max) => limitar los valores de un array a un rango dado. \n",
    "Cualquier valor por debajo de min será reemplazado por min\n",
    "Cualquier valor por encima de max sera reemplazado por max.\n",
    "\n",
    "Line 8 also provides another example of broadcasting. \n",
    "For the second argument to clip(), you pass grades, ensuring that each newly \n",
    "curved grade doesn't go lower than the original grade. But for the third argument, \n",
    "you pass a single value: 100. NumPy takes that value and broadcasts it against \n",
    "every element in new_grades, ensuring that none of the newly curved grades exceeds \n",
    "a perfect score.\n",
    "'''\n",
    "\n",
    "#Vectorization is the process of performing the same operation in the same way for each element in an array.\n",
    "\n",
    "#Broadcasting is the process of extending two arrays of different shapes and figuring out how to perform a vectorized calculation between them.\n"
   ]
  },
  {
   "cell_type": "code",
   "execution_count": 10,
   "metadata": {},
   "outputs": [
    {
     "data": {
      "text/plain": [
       "(2, 3, 2)"
      ]
     },
     "execution_count": 10,
     "metadata": {},
     "output_type": "execute_result"
    }
   ],
   "source": [
    "#Example 2: Shape\n",
    "\n",
    "temperatures = np.array([\n",
    "    29.3, 42.1, 18.8, 16.1, 38.0, 12.5,\n",
    "    12.6, 49.9, 38.6, 31.3, 9.2, 22.2\n",
    "    ]).reshape(2, 2, 3)\n",
    "\n",
    "temperatures.shape #(2,2,3)\n",
    "\n",
    "a = np.swapaxes(temperatures, 1, 2)\n",
    "\n",
    "a.shape #(2,3,2)\n",
    "\n",
    "# axes are zero-indexed and identify which dimension is which"
   ]
  },
  {
   "cell_type": "code",
   "execution_count": 12,
   "metadata": {},
   "outputs": [
    {
     "data": {
      "text/plain": [
       "array([5, 6, 7, 9])"
      ]
     },
     "execution_count": 12,
     "metadata": {},
     "output_type": "execute_result"
    }
   ],
   "source": [
    "#Example 3: max()\n",
    "\n",
    "table = np.array([\n",
    "    [5, 3, 7, 1],\n",
    "    [2, 6, 7 ,9],\n",
    "    [1, 1, 1, 1],\n",
    "    [4, 3, 2, 0],\n",
    "    ])\n",
    "\n",
    "table.max() #9\n",
    "table.max(axis=0) #array([5, 6, 7, 9]) vertical\n",
    "table.max(axis=1) #array([7, 9, 1, 4]) horizontal"
   ]
  },
  {
   "cell_type": "code",
   "execution_count": 14,
   "metadata": {},
   "outputs": [
    {
     "data": {
      "text/plain": [
       "(4, 6, 8)"
      ]
     },
     "execution_count": 14,
     "metadata": {},
     "output_type": "execute_result"
    }
   ],
   "source": [
    "# Arrays can be broadcast against each other if their dimensions match or if one of the \n",
    "# arrays has a size of 1.\n",
    "\n",
    "#Example 4: broadcast\n",
    "'''\n",
    "Array A has the shape (4, 1, 8), and array B has the shape (1, 6, 8). \n",
    "Based on the rules above, you can operate on these arrays together:\n",
    "\n",
    "In axis 0, A has a 4 and B has a 1, so B can be broadcast along that axis.\n",
    "In axis 1, A has a 1 and B has a 6, so A can be broadcast along that axis.\n",
    "In axis 2, the two arrays have matching sizes, so they can operate successfully.\n",
    "'''\n",
    "\n",
    "A = np.arange(32).reshape(4, 1, 8)\n",
    "B = np.arange(48).reshape(1, 6, 8)\n",
    "C= A + B\n",
    "C.shape # (4, 6, 8)"
   ]
  },
  {
   "cell_type": "code",
   "execution_count": 15,
   "metadata": {},
   "outputs": [],
   "source": [
    "# Data Science Operations: Filter, Order, Aggregate\n",
    "\n",
    "#NumPy arrays use commas between axes, so you can index multiple axes \n",
    "#in one set of square brackets.\n",
    "\n",
    "#Example 1: Cuadrado Magico\n",
    "\n",
    "square = np.array([\n",
    "    [16, 3, 2, 13],\n",
    "    [5, 10, 11, 8],\n",
    "    [9, 6, 7, 12],\n",
    "    [4, 15, 14, 1]\n",
    "    ])\n",
    "\n",
    "for i in range(4):\n",
    "    assert square[:, i].sum() == 34\n",
    "    assert square[i, :].sum() == 34\n",
    "\n",
    "assert square[:2, :2].sum() == 34\n",
    "assert square[2:, :2].sum() == 34\n",
    "assert square[:2, 2:].sum() == 34\n",
    "assert square[2:, 2:].sum() == 34"
   ]
  },
  {
   "cell_type": "code",
   "execution_count": 19,
   "metadata": {},
   "outputs": [
    {
     "data": {
      "text/plain": [
       "array([ 8, 12, 16, 20, 24, 28, 32, 36, 40, 44, 48])"
      ]
     },
     "execution_count": 19,
     "metadata": {},
     "output_type": "execute_result"
    }
   ],
   "source": [
    "#Masking and Filtering\n",
    "\n",
    "'''\n",
    "A mask is an array that has the exact same shape as your data, but instead of your values, \n",
    "it holds Boolean values: either True or False. You can use this mask array to index into \n",
    "your data array in nonlinear and complex ways. \n",
    "It will return all of the elements where the Boolean array has a True value.\n",
    "'''\n",
    "\n",
    "# linespace(inicio, stop, cantidad=50) => generar un array de números igualmente espaciados en un intervalo específico\n",
    "# el paso se calcula en base a los parametros\n",
    "numbers = np.linspace(5, 50, 24, dtype=int).reshape(4, -1)\n",
    "# el -1 en reshape le indica que calcule automaticamente la cantidad de elementos en la dimension\n",
    "\n",
    "mask = numbers % 4 == 0\n",
    "\n",
    "a = numbers[mask] #Masking\n",
    "b = numbers[numbers % 4 == 0] #creando mascara inline"
   ]
  },
  {
   "cell_type": "code",
   "execution_count": 24,
   "metadata": {},
   "outputs": [
    {
     "data": {
      "text/plain": [
       "0.9544"
      ]
     },
     "execution_count": 24,
     "metadata": {},
     "output_type": "execute_result"
    }
   ],
   "source": [
    "#Example 2: Normal distribution\n",
    "\n",
    "from numpy.random import default_rng\n",
    "\n",
    "rng = default_rng()\n",
    "\n",
    "values = rng.standard_normal(10000)\n",
    "\n",
    "std = values.std()\n",
    "\n",
    "filtered = values[(values > -2 * std) & (values < 2 * std)] #filtrar numeros en un rango\n",
    "\n",
    "filtered.size\n",
    "values.size\n",
    "\n",
    "filtered.size / values.size\n",
    "\n",
    "# NumPy designates & and | as the vectorized, element-wise operators to combine Booleans\n",
    "# If you try to do A and B, then you’ll get a warning about how the truth value for an array \n",
    "# is weird, because the and is operating on the truth value of the whole array, not element \n",
    "# by element."
   ]
  },
  {
   "cell_type": "code",
   "execution_count": 31,
   "metadata": {},
   "outputs": [
    {
     "data": {
      "text/plain": [
       "array([[1, 2],\n",
       "       [3, 4],\n",
       "       [5, 6]])"
      ]
     },
     "execution_count": 31,
     "metadata": {},
     "output_type": "execute_result"
    }
   ],
   "source": [
    "#Transposing, Sorting, and Concatenating\n",
    "\n",
    "a = np.array([\n",
    "    [1, 2],\n",
    "    [3, 4],\n",
    "    [5, 6],\n",
    "    ])\n",
    "\n",
    "a.T\n",
    "a.transpose()\n",
    "np.sort(a)\n",
    "np.sort(a, axis=None) #flat the array\n",
    "np.sort(a, axis=0)"
   ]
  },
  {
   "cell_type": "code",
   "execution_count": 34,
   "metadata": {},
   "outputs": [
    {
     "data": {
      "text/plain": [
       "array([3, 5, 7, 2, 4, 8, 6, 1])"
      ]
     },
     "execution_count": 34,
     "metadata": {},
     "output_type": "execute_result"
    }
   ],
   "source": [
    "c = np.array([\n",
    "    [4, 8],\n",
    "    [6, 1]\n",
    "    ])\n",
    "\n",
    "b = np.array([\n",
    "    [3, 5],\n",
    "    [7, 2],\n",
    "    ])\n",
    "\n",
    "np.hstack((c, b))\n",
    "np.hstack((b, c))\n",
    "np.concatenate((b, c))\n",
    "np.concatenate((b, c), axis=None)"
   ]
  },
  {
   "cell_type": "code",
   "execution_count": null,
   "metadata": {},
   "outputs": [],
   "source": [
    "#Aggregating functions:\n",
    "#   - .sum()\n",
    "#   - .mean()\n",
    "#   - .max()\n",
    "#   - .std()"
   ]
  }
 ],
 "metadata": {
  "kernelspec": {
   "display_name": ".venv",
   "language": "python",
   "name": "python3"
  },
  "language_info": {
   "codemirror_mode": {
    "name": "ipython",
    "version": 3
   },
   "file_extension": ".py",
   "mimetype": "text/x-python",
   "name": "python",
   "nbconvert_exporter": "python",
   "pygments_lexer": "ipython3",
   "version": "3.12.0"
  }
 },
 "nbformat": 4,
 "nbformat_minor": 2
}
